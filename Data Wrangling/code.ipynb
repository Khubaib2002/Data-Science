{
  "cells": [
    {
      "cell_type": "markdown",
      "source": [
        "# Assignment Data File\n",
        "## mk07218 - Muhammad Khubaib\n",
        "### Data Science HW 2"
      ],
      "metadata": {
        "id": "kCBp5XYmCCXu"
      },
      "id": "kCBp5XYmCCXu"
    },
    {
      "cell_type": "code",
      "execution_count": null,
      "id": "d432f16e",
      "metadata": {
        "id": "d432f16e"
      },
      "outputs": [],
      "source": [
        "import pandas as pd"
      ]
    },
    {
      "cell_type": "code",
      "execution_count": null,
      "id": "a82b95f3",
      "metadata": {
        "id": "a82b95f3"
      },
      "outputs": [],
      "source": [
        "data = pd.read_csv('NeedsWrangling.csv')"
      ]
    },
    {
      "cell_type": "code",
      "execution_count": null,
      "id": "3b9578b0",
      "metadata": {
        "id": "3b9578b0",
        "outputId": "81e00112-eead-403e-c2f0-10f0c18092ae"
      },
      "outputs": [
        {
          "data": {
            "text/html": [
              "<div>\n",
              "<style scoped>\n",
              "    .dataframe tbody tr th:only-of-type {\n",
              "        vertical-align: middle;\n",
              "    }\n",
              "\n",
              "    .dataframe tbody tr th {\n",
              "        vertical-align: top;\n",
              "    }\n",
              "\n",
              "    .dataframe thead th {\n",
              "        text-align: right;\n",
              "    }\n",
              "</style>\n",
              "<table border=\"1\" class=\"dataframe\">\n",
              "  <thead>\n",
              "    <tr style=\"text-align: right;\">\n",
              "      <th></th>\n",
              "      <th>CustomerID</th>\n",
              "      <th>Firstname</th>\n",
              "      <th>Lastname</th>\n",
              "      <th>Address</th>\n",
              "      <th>City</th>\n",
              "      <th>State</th>\n",
              "      <th>Zip</th>\n",
              "      <th>Email</th>\n",
              "    </tr>\n",
              "  </thead>\n",
              "  <tbody>\n",
              "    <tr>\n",
              "      <th>0</th>\n",
              "      <td>1</td>\n",
              "      <td>Billy</td>\n",
              "      <td>Davis</td>\n",
              "      <td>121 Main St</td>\n",
              "      <td>Prescott</td>\n",
              "      <td>AZ</td>\n",
              "      <td>86305</td>\n",
              "      <td>Bd@dma.net</td>\n",
              "    </tr>\n",
              "    <tr>\n",
              "      <th>1</th>\n",
              "      <td>2</td>\n",
              "      <td>Betty</td>\n",
              "      <td>Davis</td>\n",
              "      <td>121 Main Street</td>\n",
              "      <td>Prescott</td>\n",
              "      <td>AZ</td>\n",
              "      <td>86305</td>\n",
              "      <td>db2@dma.net</td>\n",
              "    </tr>\n",
              "    <tr>\n",
              "      <th>2</th>\n",
              "      <td>3</td>\n",
              "      <td>William</td>\n",
              "      <td>Franklin</td>\n",
              "      <td>120 Miller St</td>\n",
              "      <td>Prescott</td>\n",
              "      <td>AZ</td>\n",
              "      <td>86303</td>\n",
              "      <td>wf@dma.net</td>\n",
              "    </tr>\n",
              "    <tr>\n",
              "      <th>3</th>\n",
              "      <td>4</td>\n",
              "      <td>John</td>\n",
              "      <td>Smith</td>\n",
              "      <td>3331 Main St</td>\n",
              "      <td>prescott</td>\n",
              "      <td>az</td>\n",
              "      <td>86302</td>\n",
              "      <td>js@dma.net</td>\n",
              "    </tr>\n",
              "    <tr>\n",
              "      <th>4</th>\n",
              "      <td>5</td>\n",
              "      <td>Besty</td>\n",
              "      <td>Watson</td>\n",
              "      <td>121 Main</td>\n",
              "      <td>Prescott</td>\n",
              "      <td>Az</td>\n",
              "      <td>86305</td>\n",
              "      <td>bw@dma.net</td>\n",
              "    </tr>\n",
              "    <tr>\n",
              "      <th>5</th>\n",
              "      <td>6</td>\n",
              "      <td>Louis</td>\n",
              "      <td>Davis</td>\n",
              "      <td>121 Main Str</td>\n",
              "      <td>Prescott</td>\n",
              "      <td>az</td>\n",
              "      <td>8601</td>\n",
              "      <td>ld@dma.net</td>\n",
              "    </tr>\n",
              "    <tr>\n",
              "      <th>6</th>\n",
              "      <td>7</td>\n",
              "      <td>Oscar</td>\n",
              "      <td>Swane</td>\n",
              "      <td>333 Main St</td>\n",
              "      <td>Prescott</td>\n",
              "      <td>AZ</td>\n",
              "      <td>86302</td>\n",
              "      <td>os@dma.net</td>\n",
              "    </tr>\n",
              "    <tr>\n",
              "      <th>7</th>\n",
              "      <td>8</td>\n",
              "      <td>Allen</td>\n",
              "      <td>Lawson</td>\n",
              "      <td>555 Penelope</td>\n",
              "      <td>Prescott</td>\n",
              "      <td>AZ</td>\n",
              "      <td>86305</td>\n",
              "      <td>al@dma.net</td>\n",
              "    </tr>\n",
              "    <tr>\n",
              "      <th>8</th>\n",
              "      <td>1</td>\n",
              "      <td>Billy</td>\n",
              "      <td>Davis</td>\n",
              "      <td>121 Main St</td>\n",
              "      <td>Prescott</td>\n",
              "      <td>AZ</td>\n",
              "      <td>86305</td>\n",
              "      <td>Bd@dma.net</td>\n",
              "    </tr>\n",
              "    <tr>\n",
              "      <th>9</th>\n",
              "      <td>6</td>\n",
              "      <td>Louis</td>\n",
              "      <td>Davis</td>\n",
              "      <td>121 Main Str</td>\n",
              "      <td>Prescott</td>\n",
              "      <td>az</td>\n",
              "      <td>8601</td>\n",
              "      <td>ld@dma.net</td>\n",
              "    </tr>\n",
              "    <tr>\n",
              "      <th>10</th>\n",
              "      <td>11</td>\n",
              "      <td>Laurie</td>\n",
              "      <td>Wallace</td>\n",
              "      <td>1 Gatsby</td>\n",
              "      <td>Prescott</td>\n",
              "      <td>AZ</td>\n",
              "      <td>86305</td>\n",
              "      <td>lw@dma.net</td>\n",
              "    </tr>\n",
              "    <tr>\n",
              "      <th>11</th>\n",
              "      <td>12</td>\n",
              "      <td>William</td>\n",
              "      <td>Frank</td>\n",
              "      <td>5 West Smith</td>\n",
              "      <td>Prescutt</td>\n",
              "      <td>AZ</td>\n",
              "      <td>86305</td>\n",
              "      <td>wf@dma.net</td>\n",
              "    </tr>\n",
              "  </tbody>\n",
              "</table>\n",
              "</div>"
            ],
            "text/plain": [
              "    CustomerID  Firstname  Lastname          Address      City State    Zip   \n",
              "0            1      Billy     Davis      121 Main St  Prescott    AZ  86305  \\\n",
              "1            2      Betty     Davis  121 Main Street  Prescott    AZ  86305   \n",
              "2            3    William  Franklin    120 Miller St  Prescott    AZ  86303   \n",
              "3            4       John     Smith     3331 Main St  prescott    az  86302   \n",
              "4            5      Besty    Watson         121 Main  Prescott    Az  86305   \n",
              "5            6      Louis     Davis     121 Main Str  Prescott    az   8601   \n",
              "6            7      Oscar     Swane      333 Main St  Prescott    AZ  86302   \n",
              "7            8      Allen    Lawson     555 Penelope  Prescott    AZ  86305   \n",
              "8            1      Billy     Davis      121 Main St  Prescott    AZ  86305   \n",
              "9            6      Louis     Davis     121 Main Str  Prescott    az   8601   \n",
              "10          11     Laurie   Wallace         1 Gatsby  Prescott    AZ  86305   \n",
              "11          12    William    Frank      5 West Smith  Prescutt    AZ  86305   \n",
              "\n",
              "          Email  \n",
              "0    Bd@dma.net  \n",
              "1   db2@dma.net  \n",
              "2    wf@dma.net  \n",
              "3    js@dma.net  \n",
              "4    bw@dma.net  \n",
              "5    ld@dma.net  \n",
              "6    os@dma.net  \n",
              "7    al@dma.net  \n",
              "8    Bd@dma.net  \n",
              "9    ld@dma.net  \n",
              "10   lw@dma.net  \n",
              "11   wf@dma.net  "
            ]
          },
          "execution_count": 3,
          "metadata": {},
          "output_type": "execute_result"
        }
      ],
      "source": [
        "data"
      ]
    },
    {
      "cell_type": "code",
      "execution_count": null,
      "id": "e9ed6f9a",
      "metadata": {
        "id": "e9ed6f9a",
        "outputId": "17f75ed5-9345-4bd9-bc9b-948a2efd2466"
      },
      "outputs": [
        {
          "data": {
            "text/html": [
              "<div>\n",
              "<style scoped>\n",
              "    .dataframe tbody tr th:only-of-type {\n",
              "        vertical-align: middle;\n",
              "    }\n",
              "\n",
              "    .dataframe tbody tr th {\n",
              "        vertical-align: top;\n",
              "    }\n",
              "\n",
              "    .dataframe thead th {\n",
              "        text-align: right;\n",
              "    }\n",
              "</style>\n",
              "<table border=\"1\" class=\"dataframe\">\n",
              "  <thead>\n",
              "    <tr style=\"text-align: right;\">\n",
              "      <th></th>\n",
              "      <th>CustomerID</th>\n",
              "      <th>Firstname</th>\n",
              "      <th>Lastname</th>\n",
              "      <th>Address</th>\n",
              "      <th>City</th>\n",
              "      <th>State</th>\n",
              "      <th>Zip</th>\n",
              "      <th>Email</th>\n",
              "    </tr>\n",
              "  </thead>\n",
              "  <tbody>\n",
              "    <tr>\n",
              "      <th>0</th>\n",
              "      <td>1</td>\n",
              "      <td>Billy</td>\n",
              "      <td>Davis</td>\n",
              "      <td>121 Main St</td>\n",
              "      <td>Prescott</td>\n",
              "      <td>AZ</td>\n",
              "      <td>86305</td>\n",
              "      <td>Bd@dma.net</td>\n",
              "    </tr>\n",
              "    <tr>\n",
              "      <th>1</th>\n",
              "      <td>2</td>\n",
              "      <td>Betty</td>\n",
              "      <td>Davis</td>\n",
              "      <td>121 Main Street</td>\n",
              "      <td>Prescott</td>\n",
              "      <td>AZ</td>\n",
              "      <td>86305</td>\n",
              "      <td>db2@dma.net</td>\n",
              "    </tr>\n",
              "    <tr>\n",
              "      <th>2</th>\n",
              "      <td>3</td>\n",
              "      <td>William</td>\n",
              "      <td>Franklin</td>\n",
              "      <td>120 Miller St</td>\n",
              "      <td>Prescott</td>\n",
              "      <td>AZ</td>\n",
              "      <td>86303</td>\n",
              "      <td>wf@dma.net</td>\n",
              "    </tr>\n",
              "    <tr>\n",
              "      <th>3</th>\n",
              "      <td>4</td>\n",
              "      <td>John</td>\n",
              "      <td>Smith</td>\n",
              "      <td>3331 Main St</td>\n",
              "      <td>prescott</td>\n",
              "      <td>az</td>\n",
              "      <td>86302</td>\n",
              "      <td>js@dma.net</td>\n",
              "    </tr>\n",
              "    <tr>\n",
              "      <th>4</th>\n",
              "      <td>5</td>\n",
              "      <td>Besty</td>\n",
              "      <td>Watson</td>\n",
              "      <td>121 Main</td>\n",
              "      <td>Prescott</td>\n",
              "      <td>Az</td>\n",
              "      <td>86305</td>\n",
              "      <td>bw@dma.net</td>\n",
              "    </tr>\n",
              "  </tbody>\n",
              "</table>\n",
              "</div>"
            ],
            "text/plain": [
              "   CustomerID Firstname  Lastname          Address      City State    Zip   \n",
              "0           1     Billy     Davis      121 Main St  Prescott    AZ  86305  \\\n",
              "1           2     Betty     Davis  121 Main Street  Prescott    AZ  86305   \n",
              "2           3   William  Franklin    120 Miller St  Prescott    AZ  86303   \n",
              "3           4      John     Smith     3331 Main St  prescott    az  86302   \n",
              "4           5     Besty    Watson         121 Main  Prescott    Az  86305   \n",
              "\n",
              "         Email  \n",
              "0   Bd@dma.net  \n",
              "1  db2@dma.net  \n",
              "2   wf@dma.net  \n",
              "3   js@dma.net  \n",
              "4   bw@dma.net  "
            ]
          },
          "execution_count": 4,
          "metadata": {},
          "output_type": "execute_result"
        }
      ],
      "source": [
        "data.head()"
      ]
    },
    {
      "cell_type": "code",
      "execution_count": null,
      "id": "feef9f7e",
      "metadata": {
        "id": "feef9f7e",
        "outputId": "835e9727-efcd-4276-f237-092170a31f74"
      },
      "outputs": [
        {
          "data": {
            "text/plain": [
              "0     False\n",
              "1     False\n",
              "2     False\n",
              "3     False\n",
              "4     False\n",
              "5     False\n",
              "6     False\n",
              "7     False\n",
              "8      True\n",
              "9      True\n",
              "10    False\n",
              "11    False\n",
              "dtype: bool"
            ]
          },
          "execution_count": 5,
          "metadata": {},
          "output_type": "execute_result"
        }
      ],
      "source": [
        "data.duplicated()"
      ]
    },
    {
      "cell_type": "code",
      "execution_count": null,
      "id": "1d9e40bc",
      "metadata": {
        "id": "1d9e40bc"
      },
      "outputs": [],
      "source": [
        "data2 = data.drop_duplicates('CustomerID')"
      ]
    },
    {
      "cell_type": "code",
      "execution_count": null,
      "id": "31df331f",
      "metadata": {
        "id": "31df331f",
        "outputId": "7ace3a3c-c32c-47b9-d078-bcf083a03301"
      },
      "outputs": [
        {
          "data": {
            "text/html": [
              "<div>\n",
              "<style scoped>\n",
              "    .dataframe tbody tr th:only-of-type {\n",
              "        vertical-align: middle;\n",
              "    }\n",
              "\n",
              "    .dataframe tbody tr th {\n",
              "        vertical-align: top;\n",
              "    }\n",
              "\n",
              "    .dataframe thead th {\n",
              "        text-align: right;\n",
              "    }\n",
              "</style>\n",
              "<table border=\"1\" class=\"dataframe\">\n",
              "  <thead>\n",
              "    <tr style=\"text-align: right;\">\n",
              "      <th></th>\n",
              "      <th>CustomerID</th>\n",
              "      <th>Firstname</th>\n",
              "      <th>Lastname</th>\n",
              "      <th>Address</th>\n",
              "      <th>City</th>\n",
              "      <th>State</th>\n",
              "      <th>Zip</th>\n",
              "      <th>Email</th>\n",
              "    </tr>\n",
              "  </thead>\n",
              "  <tbody>\n",
              "    <tr>\n",
              "      <th>0</th>\n",
              "      <td>1</td>\n",
              "      <td>Billy</td>\n",
              "      <td>Davis</td>\n",
              "      <td>121 Main St</td>\n",
              "      <td>Prescott</td>\n",
              "      <td>AZ</td>\n",
              "      <td>86305</td>\n",
              "      <td>Bd@dma.net</td>\n",
              "    </tr>\n",
              "    <tr>\n",
              "      <th>1</th>\n",
              "      <td>2</td>\n",
              "      <td>Betty</td>\n",
              "      <td>Davis</td>\n",
              "      <td>121 Main Street</td>\n",
              "      <td>Prescott</td>\n",
              "      <td>AZ</td>\n",
              "      <td>86305</td>\n",
              "      <td>db2@dma.net</td>\n",
              "    </tr>\n",
              "    <tr>\n",
              "      <th>2</th>\n",
              "      <td>3</td>\n",
              "      <td>William</td>\n",
              "      <td>Franklin</td>\n",
              "      <td>120 Miller St</td>\n",
              "      <td>Prescott</td>\n",
              "      <td>AZ</td>\n",
              "      <td>86303</td>\n",
              "      <td>wf@dma.net</td>\n",
              "    </tr>\n",
              "    <tr>\n",
              "      <th>3</th>\n",
              "      <td>4</td>\n",
              "      <td>John</td>\n",
              "      <td>Smith</td>\n",
              "      <td>3331 Main St</td>\n",
              "      <td>prescott</td>\n",
              "      <td>az</td>\n",
              "      <td>86302</td>\n",
              "      <td>js@dma.net</td>\n",
              "    </tr>\n",
              "    <tr>\n",
              "      <th>4</th>\n",
              "      <td>5</td>\n",
              "      <td>Besty</td>\n",
              "      <td>Watson</td>\n",
              "      <td>121 Main</td>\n",
              "      <td>Prescott</td>\n",
              "      <td>Az</td>\n",
              "      <td>86305</td>\n",
              "      <td>bw@dma.net</td>\n",
              "    </tr>\n",
              "    <tr>\n",
              "      <th>5</th>\n",
              "      <td>6</td>\n",
              "      <td>Louis</td>\n",
              "      <td>Davis</td>\n",
              "      <td>121 Main Str</td>\n",
              "      <td>Prescott</td>\n",
              "      <td>az</td>\n",
              "      <td>8601</td>\n",
              "      <td>ld@dma.net</td>\n",
              "    </tr>\n",
              "    <tr>\n",
              "      <th>6</th>\n",
              "      <td>7</td>\n",
              "      <td>Oscar</td>\n",
              "      <td>Swane</td>\n",
              "      <td>333 Main St</td>\n",
              "      <td>Prescott</td>\n",
              "      <td>AZ</td>\n",
              "      <td>86302</td>\n",
              "      <td>os@dma.net</td>\n",
              "    </tr>\n",
              "    <tr>\n",
              "      <th>7</th>\n",
              "      <td>8</td>\n",
              "      <td>Allen</td>\n",
              "      <td>Lawson</td>\n",
              "      <td>555 Penelope</td>\n",
              "      <td>Prescott</td>\n",
              "      <td>AZ</td>\n",
              "      <td>86305</td>\n",
              "      <td>al@dma.net</td>\n",
              "    </tr>\n",
              "    <tr>\n",
              "      <th>10</th>\n",
              "      <td>11</td>\n",
              "      <td>Laurie</td>\n",
              "      <td>Wallace</td>\n",
              "      <td>1 Gatsby</td>\n",
              "      <td>Prescott</td>\n",
              "      <td>AZ</td>\n",
              "      <td>86305</td>\n",
              "      <td>lw@dma.net</td>\n",
              "    </tr>\n",
              "    <tr>\n",
              "      <th>11</th>\n",
              "      <td>12</td>\n",
              "      <td>William</td>\n",
              "      <td>Frank</td>\n",
              "      <td>5 West Smith</td>\n",
              "      <td>Prescutt</td>\n",
              "      <td>AZ</td>\n",
              "      <td>86305</td>\n",
              "      <td>wf@dma.net</td>\n",
              "    </tr>\n",
              "  </tbody>\n",
              "</table>\n",
              "</div>"
            ],
            "text/plain": [
              "    CustomerID  Firstname  Lastname          Address      City State    Zip   \n",
              "0            1      Billy     Davis      121 Main St  Prescott    AZ  86305  \\\n",
              "1            2      Betty     Davis  121 Main Street  Prescott    AZ  86305   \n",
              "2            3    William  Franklin    120 Miller St  Prescott    AZ  86303   \n",
              "3            4       John     Smith     3331 Main St  prescott    az  86302   \n",
              "4            5      Besty    Watson         121 Main  Prescott    Az  86305   \n",
              "5            6      Louis     Davis     121 Main Str  Prescott    az   8601   \n",
              "6            7      Oscar     Swane      333 Main St  Prescott    AZ  86302   \n",
              "7            8      Allen    Lawson     555 Penelope  Prescott    AZ  86305   \n",
              "10          11     Laurie   Wallace         1 Gatsby  Prescott    AZ  86305   \n",
              "11          12    William    Frank      5 West Smith  Prescutt    AZ  86305   \n",
              "\n",
              "          Email  \n",
              "0    Bd@dma.net  \n",
              "1   db2@dma.net  \n",
              "2    wf@dma.net  \n",
              "3    js@dma.net  \n",
              "4    bw@dma.net  \n",
              "5    ld@dma.net  \n",
              "6    os@dma.net  \n",
              "7    al@dma.net  \n",
              "10   lw@dma.net  \n",
              "11   wf@dma.net  "
            ]
          },
          "execution_count": 7,
          "metadata": {},
          "output_type": "execute_result"
        }
      ],
      "source": [
        "data2"
      ]
    },
    {
      "cell_type": "code",
      "execution_count": null,
      "id": "3fd47b4a",
      "metadata": {
        "id": "3fd47b4a",
        "outputId": "9c536954-8e98-42f6-ea43-154543cb9f38"
      },
      "outputs": [
        {
          "name": "stderr",
          "output_type": "stream",
          "text": [
            "C:\\Users\\zeeha\\AppData\\Local\\Temp\\ipykernel_26552\\1050047626.py:1: SettingWithCopyWarning: \n",
            "A value is trying to be set on a copy of a slice from a DataFrame.\n",
            "Try using .loc[row_indexer,col_indexer] = value instead\n",
            "\n",
            "See the caveats in the documentation: https://pandas.pydata.org/pandas-docs/stable/user_guide/indexing.html#returning-a-view-versus-a-copy\n",
            "  data2['Length'] = data2['Firstname'].map(len)\n"
          ]
        }
      ],
      "source": [
        "data2['Length'] = data2['Firstname'].map(len)"
      ]
    },
    {
      "cell_type": "code",
      "execution_count": null,
      "id": "034933dd",
      "metadata": {
        "id": "034933dd"
      },
      "outputs": [],
      "source": [
        "data2.loc[:,'Length'] = data2['Firstname'].map(len)"
      ]
    },
    {
      "cell_type": "code",
      "execution_count": null,
      "id": "15342c66",
      "metadata": {
        "id": "15342c66",
        "outputId": "7ecb64ef-93dd-4a6d-812d-88f0afb76466"
      },
      "outputs": [
        {
          "data": {
            "text/html": [
              "<div>\n",
              "<style scoped>\n",
              "    .dataframe tbody tr th:only-of-type {\n",
              "        vertical-align: middle;\n",
              "    }\n",
              "\n",
              "    .dataframe tbody tr th {\n",
              "        vertical-align: top;\n",
              "    }\n",
              "\n",
              "    .dataframe thead th {\n",
              "        text-align: right;\n",
              "    }\n",
              "</style>\n",
              "<table border=\"1\" class=\"dataframe\">\n",
              "  <thead>\n",
              "    <tr style=\"text-align: right;\">\n",
              "      <th></th>\n",
              "      <th>CustomerID</th>\n",
              "      <th>Firstname</th>\n",
              "      <th>Lastname</th>\n",
              "      <th>Address</th>\n",
              "      <th>City</th>\n",
              "      <th>State</th>\n",
              "      <th>Zip</th>\n",
              "      <th>Email</th>\n",
              "      <th>Length</th>\n",
              "    </tr>\n",
              "  </thead>\n",
              "  <tbody>\n",
              "    <tr>\n",
              "      <th>0</th>\n",
              "      <td>1</td>\n",
              "      <td>Billy</td>\n",
              "      <td>Davis</td>\n",
              "      <td>121 Main St</td>\n",
              "      <td>Prescott</td>\n",
              "      <td>AZ</td>\n",
              "      <td>86305</td>\n",
              "      <td>Bd@dma.net</td>\n",
              "      <td>5</td>\n",
              "    </tr>\n",
              "    <tr>\n",
              "      <th>1</th>\n",
              "      <td>2</td>\n",
              "      <td>Betty</td>\n",
              "      <td>Davis</td>\n",
              "      <td>121 Main Street</td>\n",
              "      <td>Prescott</td>\n",
              "      <td>AZ</td>\n",
              "      <td>86305</td>\n",
              "      <td>db2@dma.net</td>\n",
              "      <td>5</td>\n",
              "    </tr>\n",
              "    <tr>\n",
              "      <th>2</th>\n",
              "      <td>3</td>\n",
              "      <td>William</td>\n",
              "      <td>Franklin</td>\n",
              "      <td>120 Miller St</td>\n",
              "      <td>Prescott</td>\n",
              "      <td>AZ</td>\n",
              "      <td>86303</td>\n",
              "      <td>wf@dma.net</td>\n",
              "      <td>7</td>\n",
              "    </tr>\n",
              "    <tr>\n",
              "      <th>3</th>\n",
              "      <td>4</td>\n",
              "      <td>John</td>\n",
              "      <td>Smith</td>\n",
              "      <td>3331 Main St</td>\n",
              "      <td>prescott</td>\n",
              "      <td>az</td>\n",
              "      <td>86302</td>\n",
              "      <td>js@dma.net</td>\n",
              "      <td>4</td>\n",
              "    </tr>\n",
              "    <tr>\n",
              "      <th>4</th>\n",
              "      <td>5</td>\n",
              "      <td>Besty</td>\n",
              "      <td>Watson</td>\n",
              "      <td>121 Main</td>\n",
              "      <td>Prescott</td>\n",
              "      <td>Az</td>\n",
              "      <td>86305</td>\n",
              "      <td>bw@dma.net</td>\n",
              "      <td>5</td>\n",
              "    </tr>\n",
              "    <tr>\n",
              "      <th>5</th>\n",
              "      <td>6</td>\n",
              "      <td>Louis</td>\n",
              "      <td>Davis</td>\n",
              "      <td>121 Main Str</td>\n",
              "      <td>Prescott</td>\n",
              "      <td>az</td>\n",
              "      <td>8601</td>\n",
              "      <td>ld@dma.net</td>\n",
              "      <td>5</td>\n",
              "    </tr>\n",
              "    <tr>\n",
              "      <th>6</th>\n",
              "      <td>7</td>\n",
              "      <td>Oscar</td>\n",
              "      <td>Swane</td>\n",
              "      <td>333 Main St</td>\n",
              "      <td>Prescott</td>\n",
              "      <td>AZ</td>\n",
              "      <td>86302</td>\n",
              "      <td>os@dma.net</td>\n",
              "      <td>5</td>\n",
              "    </tr>\n",
              "    <tr>\n",
              "      <th>7</th>\n",
              "      <td>8</td>\n",
              "      <td>Allen</td>\n",
              "      <td>Lawson</td>\n",
              "      <td>555 Penelope</td>\n",
              "      <td>Prescott</td>\n",
              "      <td>AZ</td>\n",
              "      <td>86305</td>\n",
              "      <td>al@dma.net</td>\n",
              "      <td>5</td>\n",
              "    </tr>\n",
              "    <tr>\n",
              "      <th>10</th>\n",
              "      <td>11</td>\n",
              "      <td>Laurie</td>\n",
              "      <td>Wallace</td>\n",
              "      <td>1 Gatsby</td>\n",
              "      <td>Prescott</td>\n",
              "      <td>AZ</td>\n",
              "      <td>86305</td>\n",
              "      <td>lw@dma.net</td>\n",
              "      <td>6</td>\n",
              "    </tr>\n",
              "    <tr>\n",
              "      <th>11</th>\n",
              "      <td>12</td>\n",
              "      <td>William</td>\n",
              "      <td>Frank</td>\n",
              "      <td>5 West Smith</td>\n",
              "      <td>Prescutt</td>\n",
              "      <td>AZ</td>\n",
              "      <td>86305</td>\n",
              "      <td>wf@dma.net</td>\n",
              "      <td>9</td>\n",
              "    </tr>\n",
              "  </tbody>\n",
              "</table>\n",
              "</div>"
            ],
            "text/plain": [
              "    CustomerID  Firstname  Lastname          Address      City State    Zip   \n",
              "0            1      Billy     Davis      121 Main St  Prescott    AZ  86305  \\\n",
              "1            2      Betty     Davis  121 Main Street  Prescott    AZ  86305   \n",
              "2            3    William  Franklin    120 Miller St  Prescott    AZ  86303   \n",
              "3            4       John     Smith     3331 Main St  prescott    az  86302   \n",
              "4            5      Besty    Watson         121 Main  Prescott    Az  86305   \n",
              "5            6      Louis     Davis     121 Main Str  Prescott    az   8601   \n",
              "6            7      Oscar     Swane      333 Main St  Prescott    AZ  86302   \n",
              "7            8      Allen    Lawson     555 Penelope  Prescott    AZ  86305   \n",
              "10          11     Laurie   Wallace         1 Gatsby  Prescott    AZ  86305   \n",
              "11          12    William    Frank      5 West Smith  Prescutt    AZ  86305   \n",
              "\n",
              "          Email  Length  \n",
              "0    Bd@dma.net       5  \n",
              "1   db2@dma.net       5  \n",
              "2    wf@dma.net       7  \n",
              "3    js@dma.net       4  \n",
              "4    bw@dma.net       5  \n",
              "5    ld@dma.net       5  \n",
              "6    os@dma.net       5  \n",
              "7    al@dma.net       5  \n",
              "10   lw@dma.net       6  \n",
              "11   wf@dma.net       9  "
            ]
          },
          "execution_count": 10,
          "metadata": {},
          "output_type": "execute_result"
        }
      ],
      "source": [
        "data2"
      ]
    },
    {
      "cell_type": "code",
      "execution_count": null,
      "id": "9b4812a6",
      "metadata": {
        "id": "9b4812a6",
        "outputId": "6d2bb090-e4ca-4ca3-f100-27fc8c65de5b"
      },
      "outputs": [
        {
          "data": {
            "text/plain": [
              "'William'"
            ]
          },
          "execution_count": 11,
          "metadata": {},
          "output_type": "execute_result"
        }
      ],
      "source": [
        "data2['Firstname'][2]"
      ]
    },
    {
      "cell_type": "code",
      "execution_count": null,
      "id": "6aeceee0",
      "metadata": {
        "id": "6aeceee0",
        "outputId": "5e6c402a-5964-47a5-f2e6-e4442a94e5e1"
      },
      "outputs": [
        {
          "data": {
            "text/plain": [
              "7"
            ]
          },
          "execution_count": 12,
          "metadata": {},
          "output_type": "execute_result"
        }
      ],
      "source": [
        "len(data2['Firstname'][2])"
      ]
    },
    {
      "cell_type": "code",
      "execution_count": null,
      "id": "72dfc7f6",
      "metadata": {
        "id": "72dfc7f6",
        "outputId": "7ded462d-14ae-4330-ad46-79522143eac3"
      },
      "outputs": [
        {
          "data": {
            "text/plain": [
              "'  William'"
            ]
          },
          "execution_count": 13,
          "metadata": {},
          "output_type": "execute_result"
        }
      ],
      "source": [
        "data2['Firstname'][11]"
      ]
    },
    {
      "cell_type": "code",
      "execution_count": null,
      "id": "643f4ffc",
      "metadata": {
        "id": "643f4ffc",
        "outputId": "c0ec0421-adb9-45ed-f02c-d0862f2cad6d"
      },
      "outputs": [
        {
          "data": {
            "text/plain": [
              "9"
            ]
          },
          "execution_count": 14,
          "metadata": {},
          "output_type": "execute_result"
        }
      ],
      "source": [
        "len(data2['Firstname'][11])"
      ]
    },
    {
      "cell_type": "code",
      "execution_count": null,
      "id": "7679289d",
      "metadata": {
        "id": "7679289d"
      },
      "outputs": [],
      "source": [
        "# data2['Firstname'] = data2['Firstname'].map(str.strip)\n",
        "### OR\n",
        "# data2['Firstname'] = data2['Firstname'].str.strip()\n",
        "data2.loc[:,'Firstname'] = data2['Firstname'].str.strip()"
      ]
    },
    {
      "cell_type": "code",
      "execution_count": null,
      "id": "62fbb2a9",
      "metadata": {
        "id": "62fbb2a9",
        "outputId": "bfc2f5e7-6a9f-4f84-d33b-b7cbc542f909"
      },
      "outputs": [
        {
          "data": {
            "text/plain": [
              "'William'"
            ]
          },
          "execution_count": 16,
          "metadata": {},
          "output_type": "execute_result"
        }
      ],
      "source": [
        "data2['Firstname'][2]"
      ]
    },
    {
      "cell_type": "code",
      "execution_count": null,
      "id": "ab7fb377",
      "metadata": {
        "id": "ab7fb377",
        "outputId": "c5d22c1f-2b66-4073-df89-d3a3b13710f3"
      },
      "outputs": [
        {
          "data": {
            "text/plain": [
              "'William'"
            ]
          },
          "execution_count": 17,
          "metadata": {},
          "output_type": "execute_result"
        }
      ],
      "source": [
        "data2['Firstname'][11]"
      ]
    },
    {
      "cell_type": "code",
      "execution_count": null,
      "id": "798784f8",
      "metadata": {
        "id": "798784f8",
        "outputId": "37c33bc2-0505-4e42-d8eb-32364426fb89"
      },
      "outputs": [
        {
          "data": {
            "text/html": [
              "<div>\n",
              "<style scoped>\n",
              "    .dataframe tbody tr th:only-of-type {\n",
              "        vertical-align: middle;\n",
              "    }\n",
              "\n",
              "    .dataframe tbody tr th {\n",
              "        vertical-align: top;\n",
              "    }\n",
              "\n",
              "    .dataframe thead th {\n",
              "        text-align: right;\n",
              "    }\n",
              "</style>\n",
              "<table border=\"1\" class=\"dataframe\">\n",
              "  <thead>\n",
              "    <tr style=\"text-align: right;\">\n",
              "      <th></th>\n",
              "      <th>CustomerID</th>\n",
              "      <th>Firstname</th>\n",
              "      <th>Lastname</th>\n",
              "      <th>Address</th>\n",
              "      <th>City</th>\n",
              "      <th>State</th>\n",
              "      <th>Zip</th>\n",
              "      <th>Email</th>\n",
              "      <th>Length</th>\n",
              "    </tr>\n",
              "  </thead>\n",
              "  <tbody>\n",
              "    <tr>\n",
              "      <th>0</th>\n",
              "      <td>1</td>\n",
              "      <td>Billy</td>\n",
              "      <td>Davis</td>\n",
              "      <td>121 Main St</td>\n",
              "      <td>Prescott</td>\n",
              "      <td>AZ</td>\n",
              "      <td>86305</td>\n",
              "      <td>Bd@dma.net</td>\n",
              "      <td>5</td>\n",
              "    </tr>\n",
              "    <tr>\n",
              "      <th>1</th>\n",
              "      <td>2</td>\n",
              "      <td>Betty</td>\n",
              "      <td>Davis</td>\n",
              "      <td>121 Main Street</td>\n",
              "      <td>Prescott</td>\n",
              "      <td>AZ</td>\n",
              "      <td>86305</td>\n",
              "      <td>db2@dma.net</td>\n",
              "      <td>5</td>\n",
              "    </tr>\n",
              "    <tr>\n",
              "      <th>2</th>\n",
              "      <td>3</td>\n",
              "      <td>William</td>\n",
              "      <td>Franklin</td>\n",
              "      <td>120 Miller St</td>\n",
              "      <td>Prescott</td>\n",
              "      <td>AZ</td>\n",
              "      <td>86303</td>\n",
              "      <td>wf@dma.net</td>\n",
              "      <td>7</td>\n",
              "    </tr>\n",
              "    <tr>\n",
              "      <th>3</th>\n",
              "      <td>4</td>\n",
              "      <td>John</td>\n",
              "      <td>Smith</td>\n",
              "      <td>3331 Main St</td>\n",
              "      <td>prescott</td>\n",
              "      <td>az</td>\n",
              "      <td>86302</td>\n",
              "      <td>js@dma.net</td>\n",
              "      <td>4</td>\n",
              "    </tr>\n",
              "    <tr>\n",
              "      <th>4</th>\n",
              "      <td>5</td>\n",
              "      <td>Besty</td>\n",
              "      <td>Watson</td>\n",
              "      <td>121 Main</td>\n",
              "      <td>Prescott</td>\n",
              "      <td>Az</td>\n",
              "      <td>86305</td>\n",
              "      <td>bw@dma.net</td>\n",
              "      <td>5</td>\n",
              "    </tr>\n",
              "    <tr>\n",
              "      <th>5</th>\n",
              "      <td>6</td>\n",
              "      <td>Louis</td>\n",
              "      <td>Davis</td>\n",
              "      <td>121 Main Str</td>\n",
              "      <td>Prescott</td>\n",
              "      <td>az</td>\n",
              "      <td>8601</td>\n",
              "      <td>ld@dma.net</td>\n",
              "      <td>5</td>\n",
              "    </tr>\n",
              "    <tr>\n",
              "      <th>6</th>\n",
              "      <td>7</td>\n",
              "      <td>Oscar</td>\n",
              "      <td>Swane</td>\n",
              "      <td>333 Main St</td>\n",
              "      <td>Prescott</td>\n",
              "      <td>AZ</td>\n",
              "      <td>86302</td>\n",
              "      <td>os@dma.net</td>\n",
              "      <td>5</td>\n",
              "    </tr>\n",
              "    <tr>\n",
              "      <th>7</th>\n",
              "      <td>8</td>\n",
              "      <td>Allen</td>\n",
              "      <td>Lawson</td>\n",
              "      <td>555 Penelope</td>\n",
              "      <td>Prescott</td>\n",
              "      <td>AZ</td>\n",
              "      <td>86305</td>\n",
              "      <td>al@dma.net</td>\n",
              "      <td>5</td>\n",
              "    </tr>\n",
              "    <tr>\n",
              "      <th>10</th>\n",
              "      <td>11</td>\n",
              "      <td>Laurie</td>\n",
              "      <td>Wallace</td>\n",
              "      <td>1 Gatsby</td>\n",
              "      <td>Prescott</td>\n",
              "      <td>AZ</td>\n",
              "      <td>86305</td>\n",
              "      <td>lw@dma.net</td>\n",
              "      <td>6</td>\n",
              "    </tr>\n",
              "    <tr>\n",
              "      <th>11</th>\n",
              "      <td>12</td>\n",
              "      <td>William</td>\n",
              "      <td>Frank</td>\n",
              "      <td>5 West Smith</td>\n",
              "      <td>Prescutt</td>\n",
              "      <td>AZ</td>\n",
              "      <td>86305</td>\n",
              "      <td>wf@dma.net</td>\n",
              "      <td>9</td>\n",
              "    </tr>\n",
              "  </tbody>\n",
              "</table>\n",
              "</div>"
            ],
            "text/plain": [
              "    CustomerID Firstname  Lastname          Address      City State    Zip   \n",
              "0            1     Billy     Davis      121 Main St  Prescott    AZ  86305  \\\n",
              "1            2     Betty     Davis  121 Main Street  Prescott    AZ  86305   \n",
              "2            3   William  Franklin    120 Miller St  Prescott    AZ  86303   \n",
              "3            4      John     Smith     3331 Main St  prescott    az  86302   \n",
              "4            5     Besty    Watson         121 Main  Prescott    Az  86305   \n",
              "5            6     Louis     Davis     121 Main Str  Prescott    az   8601   \n",
              "6            7     Oscar     Swane      333 Main St  Prescott    AZ  86302   \n",
              "7            8     Allen    Lawson     555 Penelope  Prescott    AZ  86305   \n",
              "10          11    Laurie   Wallace         1 Gatsby  Prescott    AZ  86305   \n",
              "11          12   William    Frank      5 West Smith  Prescutt    AZ  86305   \n",
              "\n",
              "          Email  Length  \n",
              "0    Bd@dma.net       5  \n",
              "1   db2@dma.net       5  \n",
              "2    wf@dma.net       7  \n",
              "3    js@dma.net       4  \n",
              "4    bw@dma.net       5  \n",
              "5    ld@dma.net       5  \n",
              "6    os@dma.net       5  \n",
              "7    al@dma.net       5  \n",
              "10   lw@dma.net       6  \n",
              "11   wf@dma.net       9  "
            ]
          },
          "execution_count": 18,
          "metadata": {},
          "output_type": "execute_result"
        }
      ],
      "source": [
        "data2"
      ]
    },
    {
      "cell_type": "code",
      "execution_count": null,
      "id": "a0641321",
      "metadata": {
        "id": "a0641321"
      },
      "outputs": [],
      "source": [
        "data2.loc[:,'Length'] = data2['Firstname'].map(len)"
      ]
    },
    {
      "cell_type": "code",
      "execution_count": null,
      "id": "56b09428",
      "metadata": {
        "id": "56b09428",
        "outputId": "7b1f0325-7ac0-44cc-c4e2-607d26f09238"
      },
      "outputs": [
        {
          "data": {
            "text/html": [
              "<div>\n",
              "<style scoped>\n",
              "    .dataframe tbody tr th:only-of-type {\n",
              "        vertical-align: middle;\n",
              "    }\n",
              "\n",
              "    .dataframe tbody tr th {\n",
              "        vertical-align: top;\n",
              "    }\n",
              "\n",
              "    .dataframe thead th {\n",
              "        text-align: right;\n",
              "    }\n",
              "</style>\n",
              "<table border=\"1\" class=\"dataframe\">\n",
              "  <thead>\n",
              "    <tr style=\"text-align: right;\">\n",
              "      <th></th>\n",
              "      <th>CustomerID</th>\n",
              "      <th>Firstname</th>\n",
              "      <th>Lastname</th>\n",
              "      <th>Address</th>\n",
              "      <th>City</th>\n",
              "      <th>State</th>\n",
              "      <th>Zip</th>\n",
              "      <th>Email</th>\n",
              "      <th>Length</th>\n",
              "    </tr>\n",
              "  </thead>\n",
              "  <tbody>\n",
              "    <tr>\n",
              "      <th>0</th>\n",
              "      <td>1</td>\n",
              "      <td>Billy</td>\n",
              "      <td>Davis</td>\n",
              "      <td>121 Main St</td>\n",
              "      <td>Prescott</td>\n",
              "      <td>AZ</td>\n",
              "      <td>86305</td>\n",
              "      <td>Bd@dma.net</td>\n",
              "      <td>5</td>\n",
              "    </tr>\n",
              "    <tr>\n",
              "      <th>1</th>\n",
              "      <td>2</td>\n",
              "      <td>Betty</td>\n",
              "      <td>Davis</td>\n",
              "      <td>121 Main Street</td>\n",
              "      <td>Prescott</td>\n",
              "      <td>AZ</td>\n",
              "      <td>86305</td>\n",
              "      <td>db2@dma.net</td>\n",
              "      <td>5</td>\n",
              "    </tr>\n",
              "    <tr>\n",
              "      <th>2</th>\n",
              "      <td>3</td>\n",
              "      <td>William</td>\n",
              "      <td>Franklin</td>\n",
              "      <td>120 Miller St</td>\n",
              "      <td>Prescott</td>\n",
              "      <td>AZ</td>\n",
              "      <td>86303</td>\n",
              "      <td>wf@dma.net</td>\n",
              "      <td>7</td>\n",
              "    </tr>\n",
              "    <tr>\n",
              "      <th>3</th>\n",
              "      <td>4</td>\n",
              "      <td>John</td>\n",
              "      <td>Smith</td>\n",
              "      <td>3331 Main St</td>\n",
              "      <td>prescott</td>\n",
              "      <td>az</td>\n",
              "      <td>86302</td>\n",
              "      <td>js@dma.net</td>\n",
              "      <td>4</td>\n",
              "    </tr>\n",
              "    <tr>\n",
              "      <th>4</th>\n",
              "      <td>5</td>\n",
              "      <td>Besty</td>\n",
              "      <td>Watson</td>\n",
              "      <td>121 Main</td>\n",
              "      <td>Prescott</td>\n",
              "      <td>Az</td>\n",
              "      <td>86305</td>\n",
              "      <td>bw@dma.net</td>\n",
              "      <td>5</td>\n",
              "    </tr>\n",
              "    <tr>\n",
              "      <th>5</th>\n",
              "      <td>6</td>\n",
              "      <td>Louis</td>\n",
              "      <td>Davis</td>\n",
              "      <td>121 Main Str</td>\n",
              "      <td>Prescott</td>\n",
              "      <td>az</td>\n",
              "      <td>8601</td>\n",
              "      <td>ld@dma.net</td>\n",
              "      <td>5</td>\n",
              "    </tr>\n",
              "    <tr>\n",
              "      <th>6</th>\n",
              "      <td>7</td>\n",
              "      <td>Oscar</td>\n",
              "      <td>Swane</td>\n",
              "      <td>333 Main St</td>\n",
              "      <td>Prescott</td>\n",
              "      <td>AZ</td>\n",
              "      <td>86302</td>\n",
              "      <td>os@dma.net</td>\n",
              "      <td>5</td>\n",
              "    </tr>\n",
              "    <tr>\n",
              "      <th>7</th>\n",
              "      <td>8</td>\n",
              "      <td>Allen</td>\n",
              "      <td>Lawson</td>\n",
              "      <td>555 Penelope</td>\n",
              "      <td>Prescott</td>\n",
              "      <td>AZ</td>\n",
              "      <td>86305</td>\n",
              "      <td>al@dma.net</td>\n",
              "      <td>5</td>\n",
              "    </tr>\n",
              "    <tr>\n",
              "      <th>10</th>\n",
              "      <td>11</td>\n",
              "      <td>Laurie</td>\n",
              "      <td>Wallace</td>\n",
              "      <td>1 Gatsby</td>\n",
              "      <td>Prescott</td>\n",
              "      <td>AZ</td>\n",
              "      <td>86305</td>\n",
              "      <td>lw@dma.net</td>\n",
              "      <td>6</td>\n",
              "    </tr>\n",
              "    <tr>\n",
              "      <th>11</th>\n",
              "      <td>12</td>\n",
              "      <td>William</td>\n",
              "      <td>Frank</td>\n",
              "      <td>5 West Smith</td>\n",
              "      <td>Prescutt</td>\n",
              "      <td>AZ</td>\n",
              "      <td>86305</td>\n",
              "      <td>wf@dma.net</td>\n",
              "      <td>7</td>\n",
              "    </tr>\n",
              "  </tbody>\n",
              "</table>\n",
              "</div>"
            ],
            "text/plain": [
              "    CustomerID Firstname  Lastname          Address      City State    Zip   \n",
              "0            1     Billy     Davis      121 Main St  Prescott    AZ  86305  \\\n",
              "1            2     Betty     Davis  121 Main Street  Prescott    AZ  86305   \n",
              "2            3   William  Franklin    120 Miller St  Prescott    AZ  86303   \n",
              "3            4      John     Smith     3331 Main St  prescott    az  86302   \n",
              "4            5     Besty    Watson         121 Main  Prescott    Az  86305   \n",
              "5            6     Louis     Davis     121 Main Str  Prescott    az   8601   \n",
              "6            7     Oscar     Swane      333 Main St  Prescott    AZ  86302   \n",
              "7            8     Allen    Lawson     555 Penelope  Prescott    AZ  86305   \n",
              "10          11    Laurie   Wallace         1 Gatsby  Prescott    AZ  86305   \n",
              "11          12   William    Frank      5 West Smith  Prescutt    AZ  86305   \n",
              "\n",
              "          Email  Length  \n",
              "0    Bd@dma.net       5  \n",
              "1   db2@dma.net       5  \n",
              "2    wf@dma.net       7  \n",
              "3    js@dma.net       4  \n",
              "4    bw@dma.net       5  \n",
              "5    ld@dma.net       5  \n",
              "6    os@dma.net       5  \n",
              "7    al@dma.net       5  \n",
              "10   lw@dma.net       6  \n",
              "11   wf@dma.net       7  "
            ]
          },
          "execution_count": 20,
          "metadata": {},
          "output_type": "execute_result"
        }
      ],
      "source": [
        "data2"
      ]
    },
    {
      "cell_type": "code",
      "execution_count": null,
      "id": "8f7237c1",
      "metadata": {
        "id": "8f7237c1"
      },
      "outputs": [],
      "source": [
        "# data2['State'] = data2['State'].str.upper()\n",
        "data2.loc[:,'State'] = data2['State'].str.upper()"
      ]
    },
    {
      "cell_type": "code",
      "execution_count": null,
      "id": "162871b8",
      "metadata": {
        "id": "162871b8",
        "outputId": "5db49d28-f893-4a98-9954-bc10c7b757d7"
      },
      "outputs": [
        {
          "data": {
            "text/html": [
              "<div>\n",
              "<style scoped>\n",
              "    .dataframe tbody tr th:only-of-type {\n",
              "        vertical-align: middle;\n",
              "    }\n",
              "\n",
              "    .dataframe tbody tr th {\n",
              "        vertical-align: top;\n",
              "    }\n",
              "\n",
              "    .dataframe thead th {\n",
              "        text-align: right;\n",
              "    }\n",
              "</style>\n",
              "<table border=\"1\" class=\"dataframe\">\n",
              "  <thead>\n",
              "    <tr style=\"text-align: right;\">\n",
              "      <th></th>\n",
              "      <th>CustomerID</th>\n",
              "      <th>Firstname</th>\n",
              "      <th>Lastname</th>\n",
              "      <th>Address</th>\n",
              "      <th>City</th>\n",
              "      <th>State</th>\n",
              "      <th>Zip</th>\n",
              "      <th>Email</th>\n",
              "      <th>Length</th>\n",
              "    </tr>\n",
              "  </thead>\n",
              "  <tbody>\n",
              "    <tr>\n",
              "      <th>0</th>\n",
              "      <td>1</td>\n",
              "      <td>Billy</td>\n",
              "      <td>Davis</td>\n",
              "      <td>121 Main St</td>\n",
              "      <td>Prescott</td>\n",
              "      <td>AZ</td>\n",
              "      <td>86305</td>\n",
              "      <td>Bd@dma.net</td>\n",
              "      <td>5</td>\n",
              "    </tr>\n",
              "    <tr>\n",
              "      <th>1</th>\n",
              "      <td>2</td>\n",
              "      <td>Betty</td>\n",
              "      <td>Davis</td>\n",
              "      <td>121 Main Street</td>\n",
              "      <td>Prescott</td>\n",
              "      <td>AZ</td>\n",
              "      <td>86305</td>\n",
              "      <td>db2@dma.net</td>\n",
              "      <td>5</td>\n",
              "    </tr>\n",
              "    <tr>\n",
              "      <th>2</th>\n",
              "      <td>3</td>\n",
              "      <td>William</td>\n",
              "      <td>Franklin</td>\n",
              "      <td>120 Miller St</td>\n",
              "      <td>Prescott</td>\n",
              "      <td>AZ</td>\n",
              "      <td>86303</td>\n",
              "      <td>wf@dma.net</td>\n",
              "      <td>7</td>\n",
              "    </tr>\n",
              "    <tr>\n",
              "      <th>3</th>\n",
              "      <td>4</td>\n",
              "      <td>John</td>\n",
              "      <td>Smith</td>\n",
              "      <td>3331 Main St</td>\n",
              "      <td>prescott</td>\n",
              "      <td>AZ</td>\n",
              "      <td>86302</td>\n",
              "      <td>js@dma.net</td>\n",
              "      <td>4</td>\n",
              "    </tr>\n",
              "    <tr>\n",
              "      <th>4</th>\n",
              "      <td>5</td>\n",
              "      <td>Besty</td>\n",
              "      <td>Watson</td>\n",
              "      <td>121 Main</td>\n",
              "      <td>Prescott</td>\n",
              "      <td>AZ</td>\n",
              "      <td>86305</td>\n",
              "      <td>bw@dma.net</td>\n",
              "      <td>5</td>\n",
              "    </tr>\n",
              "    <tr>\n",
              "      <th>5</th>\n",
              "      <td>6</td>\n",
              "      <td>Louis</td>\n",
              "      <td>Davis</td>\n",
              "      <td>121 Main Str</td>\n",
              "      <td>Prescott</td>\n",
              "      <td>AZ</td>\n",
              "      <td>8601</td>\n",
              "      <td>ld@dma.net</td>\n",
              "      <td>5</td>\n",
              "    </tr>\n",
              "    <tr>\n",
              "      <th>6</th>\n",
              "      <td>7</td>\n",
              "      <td>Oscar</td>\n",
              "      <td>Swane</td>\n",
              "      <td>333 Main St</td>\n",
              "      <td>Prescott</td>\n",
              "      <td>AZ</td>\n",
              "      <td>86302</td>\n",
              "      <td>os@dma.net</td>\n",
              "      <td>5</td>\n",
              "    </tr>\n",
              "    <tr>\n",
              "      <th>7</th>\n",
              "      <td>8</td>\n",
              "      <td>Allen</td>\n",
              "      <td>Lawson</td>\n",
              "      <td>555 Penelope</td>\n",
              "      <td>Prescott</td>\n",
              "      <td>AZ</td>\n",
              "      <td>86305</td>\n",
              "      <td>al@dma.net</td>\n",
              "      <td>5</td>\n",
              "    </tr>\n",
              "    <tr>\n",
              "      <th>10</th>\n",
              "      <td>11</td>\n",
              "      <td>Laurie</td>\n",
              "      <td>Wallace</td>\n",
              "      <td>1 Gatsby</td>\n",
              "      <td>Prescott</td>\n",
              "      <td>AZ</td>\n",
              "      <td>86305</td>\n",
              "      <td>lw@dma.net</td>\n",
              "      <td>6</td>\n",
              "    </tr>\n",
              "    <tr>\n",
              "      <th>11</th>\n",
              "      <td>12</td>\n",
              "      <td>William</td>\n",
              "      <td>Frank</td>\n",
              "      <td>5 West Smith</td>\n",
              "      <td>Prescutt</td>\n",
              "      <td>AZ</td>\n",
              "      <td>86305</td>\n",
              "      <td>wf@dma.net</td>\n",
              "      <td>7</td>\n",
              "    </tr>\n",
              "  </tbody>\n",
              "</table>\n",
              "</div>"
            ],
            "text/plain": [
              "    CustomerID Firstname  Lastname          Address      City State    Zip   \n",
              "0            1     Billy     Davis      121 Main St  Prescott    AZ  86305  \\\n",
              "1            2     Betty     Davis  121 Main Street  Prescott    AZ  86305   \n",
              "2            3   William  Franklin    120 Miller St  Prescott    AZ  86303   \n",
              "3            4      John     Smith     3331 Main St  prescott    AZ  86302   \n",
              "4            5     Besty    Watson         121 Main  Prescott    AZ  86305   \n",
              "5            6     Louis     Davis     121 Main Str  Prescott    AZ   8601   \n",
              "6            7     Oscar     Swane      333 Main St  Prescott    AZ  86302   \n",
              "7            8     Allen    Lawson     555 Penelope  Prescott    AZ  86305   \n",
              "10          11    Laurie   Wallace         1 Gatsby  Prescott    AZ  86305   \n",
              "11          12   William    Frank      5 West Smith  Prescutt    AZ  86305   \n",
              "\n",
              "          Email  Length  \n",
              "0    Bd@dma.net       5  \n",
              "1   db2@dma.net       5  \n",
              "2    wf@dma.net       7  \n",
              "3    js@dma.net       4  \n",
              "4    bw@dma.net       5  \n",
              "5    ld@dma.net       5  \n",
              "6    os@dma.net       5  \n",
              "7    al@dma.net       5  \n",
              "10   lw@dma.net       6  \n",
              "11   wf@dma.net       7  "
            ]
          },
          "execution_count": 22,
          "metadata": {},
          "output_type": "execute_result"
        }
      ],
      "source": [
        "data2"
      ]
    },
    {
      "cell_type": "code",
      "execution_count": null,
      "id": "7ab9df71",
      "metadata": {
        "id": "7ab9df71",
        "outputId": "84088c06-d996-4db5-e131-73c302c922e7"
      },
      "outputs": [
        {
          "data": {
            "text/plain": [
              "0      True\n",
              "1      True\n",
              "2     False\n",
              "3     False\n",
              "4     False\n",
              "5      True\n",
              "6     False\n",
              "7     False\n",
              "10    False\n",
              "11    False\n",
              "Name: Address, dtype: bool"
            ]
          },
          "execution_count": 23,
          "metadata": {},
          "output_type": "execute_result"
        }
      ],
      "source": [
        "data2['Address'].str.contains('121 Main St')"
      ]
    },
    {
      "cell_type": "code",
      "execution_count": null,
      "id": "0e6e356a",
      "metadata": {
        "id": "0e6e356a"
      },
      "outputs": [],
      "source": [
        "idx = data2['Address'].str.contains('121 Main St')"
      ]
    },
    {
      "cell_type": "code",
      "execution_count": null,
      "id": "5e65fec1",
      "metadata": {
        "id": "5e65fec1"
      },
      "outputs": [],
      "source": [
        "data2.loc[idx,'Address'] = '121 Main St'"
      ]
    },
    {
      "cell_type": "code",
      "execution_count": null,
      "id": "e880aa48",
      "metadata": {
        "id": "e880aa48",
        "outputId": "ce23b602-8b46-4d38-ea14-61a03e7c1a04"
      },
      "outputs": [
        {
          "data": {
            "text/html": [
              "<div>\n",
              "<style scoped>\n",
              "    .dataframe tbody tr th:only-of-type {\n",
              "        vertical-align: middle;\n",
              "    }\n",
              "\n",
              "    .dataframe tbody tr th {\n",
              "        vertical-align: top;\n",
              "    }\n",
              "\n",
              "    .dataframe thead th {\n",
              "        text-align: right;\n",
              "    }\n",
              "</style>\n",
              "<table border=\"1\" class=\"dataframe\">\n",
              "  <thead>\n",
              "    <tr style=\"text-align: right;\">\n",
              "      <th></th>\n",
              "      <th>CustomerID</th>\n",
              "      <th>Firstname</th>\n",
              "      <th>Lastname</th>\n",
              "      <th>Address</th>\n",
              "      <th>City</th>\n",
              "      <th>State</th>\n",
              "      <th>Zip</th>\n",
              "      <th>Email</th>\n",
              "      <th>Length</th>\n",
              "    </tr>\n",
              "  </thead>\n",
              "  <tbody>\n",
              "    <tr>\n",
              "      <th>0</th>\n",
              "      <td>1</td>\n",
              "      <td>Billy</td>\n",
              "      <td>Davis</td>\n",
              "      <td>121 Main St</td>\n",
              "      <td>Prescott</td>\n",
              "      <td>AZ</td>\n",
              "      <td>86305</td>\n",
              "      <td>Bd@dma.net</td>\n",
              "      <td>5</td>\n",
              "    </tr>\n",
              "    <tr>\n",
              "      <th>1</th>\n",
              "      <td>2</td>\n",
              "      <td>Betty</td>\n",
              "      <td>Davis</td>\n",
              "      <td>121 Main St</td>\n",
              "      <td>Prescott</td>\n",
              "      <td>AZ</td>\n",
              "      <td>86305</td>\n",
              "      <td>db2@dma.net</td>\n",
              "      <td>5</td>\n",
              "    </tr>\n",
              "    <tr>\n",
              "      <th>2</th>\n",
              "      <td>3</td>\n",
              "      <td>William</td>\n",
              "      <td>Franklin</td>\n",
              "      <td>120 Miller St</td>\n",
              "      <td>Prescott</td>\n",
              "      <td>AZ</td>\n",
              "      <td>86303</td>\n",
              "      <td>wf@dma.net</td>\n",
              "      <td>7</td>\n",
              "    </tr>\n",
              "    <tr>\n",
              "      <th>3</th>\n",
              "      <td>4</td>\n",
              "      <td>John</td>\n",
              "      <td>Smith</td>\n",
              "      <td>3331 Main St</td>\n",
              "      <td>prescott</td>\n",
              "      <td>AZ</td>\n",
              "      <td>86302</td>\n",
              "      <td>js@dma.net</td>\n",
              "      <td>4</td>\n",
              "    </tr>\n",
              "    <tr>\n",
              "      <th>4</th>\n",
              "      <td>5</td>\n",
              "      <td>Besty</td>\n",
              "      <td>Watson</td>\n",
              "      <td>121 Main</td>\n",
              "      <td>Prescott</td>\n",
              "      <td>AZ</td>\n",
              "      <td>86305</td>\n",
              "      <td>bw@dma.net</td>\n",
              "      <td>5</td>\n",
              "    </tr>\n",
              "    <tr>\n",
              "      <th>5</th>\n",
              "      <td>6</td>\n",
              "      <td>Louis</td>\n",
              "      <td>Davis</td>\n",
              "      <td>121 Main St</td>\n",
              "      <td>Prescott</td>\n",
              "      <td>AZ</td>\n",
              "      <td>8601</td>\n",
              "      <td>ld@dma.net</td>\n",
              "      <td>5</td>\n",
              "    </tr>\n",
              "    <tr>\n",
              "      <th>6</th>\n",
              "      <td>7</td>\n",
              "      <td>Oscar</td>\n",
              "      <td>Swane</td>\n",
              "      <td>333 Main St</td>\n",
              "      <td>Prescott</td>\n",
              "      <td>AZ</td>\n",
              "      <td>86302</td>\n",
              "      <td>os@dma.net</td>\n",
              "      <td>5</td>\n",
              "    </tr>\n",
              "    <tr>\n",
              "      <th>7</th>\n",
              "      <td>8</td>\n",
              "      <td>Allen</td>\n",
              "      <td>Lawson</td>\n",
              "      <td>555 Penelope</td>\n",
              "      <td>Prescott</td>\n",
              "      <td>AZ</td>\n",
              "      <td>86305</td>\n",
              "      <td>al@dma.net</td>\n",
              "      <td>5</td>\n",
              "    </tr>\n",
              "    <tr>\n",
              "      <th>10</th>\n",
              "      <td>11</td>\n",
              "      <td>Laurie</td>\n",
              "      <td>Wallace</td>\n",
              "      <td>1 Gatsby</td>\n",
              "      <td>Prescott</td>\n",
              "      <td>AZ</td>\n",
              "      <td>86305</td>\n",
              "      <td>lw@dma.net</td>\n",
              "      <td>6</td>\n",
              "    </tr>\n",
              "    <tr>\n",
              "      <th>11</th>\n",
              "      <td>12</td>\n",
              "      <td>William</td>\n",
              "      <td>Frank</td>\n",
              "      <td>5 West Smith</td>\n",
              "      <td>Prescutt</td>\n",
              "      <td>AZ</td>\n",
              "      <td>86305</td>\n",
              "      <td>wf@dma.net</td>\n",
              "      <td>7</td>\n",
              "    </tr>\n",
              "  </tbody>\n",
              "</table>\n",
              "</div>"
            ],
            "text/plain": [
              "    CustomerID Firstname  Lastname          Address      City State    Zip   \n",
              "0            1     Billy     Davis      121 Main St  Prescott    AZ  86305  \\\n",
              "1            2     Betty     Davis      121 Main St  Prescott    AZ  86305   \n",
              "2            3   William  Franklin    120 Miller St  Prescott    AZ  86303   \n",
              "3            4      John     Smith     3331 Main St  prescott    AZ  86302   \n",
              "4            5     Besty    Watson         121 Main  Prescott    AZ  86305   \n",
              "5            6     Louis     Davis      121 Main St  Prescott    AZ   8601   \n",
              "6            7     Oscar     Swane      333 Main St  Prescott    AZ  86302   \n",
              "7            8     Allen    Lawson     555 Penelope  Prescott    AZ  86305   \n",
              "10          11    Laurie   Wallace         1 Gatsby  Prescott    AZ  86305   \n",
              "11          12   William    Frank      5 West Smith  Prescutt    AZ  86305   \n",
              "\n",
              "          Email  Length  \n",
              "0    Bd@dma.net       5  \n",
              "1   db2@dma.net       5  \n",
              "2    wf@dma.net       7  \n",
              "3    js@dma.net       4  \n",
              "4    bw@dma.net       5  \n",
              "5    ld@dma.net       5  \n",
              "6    os@dma.net       5  \n",
              "7    al@dma.net       5  \n",
              "10   lw@dma.net       6  \n",
              "11   wf@dma.net       7  "
            ]
          },
          "execution_count": 26,
          "metadata": {},
          "output_type": "execute_result"
        }
      ],
      "source": [
        "data2"
      ]
    },
    {
      "cell_type": "code",
      "execution_count": null,
      "id": "d5ea625e",
      "metadata": {
        "id": "d5ea625e",
        "outputId": "221feaaf-ea24-49f5-bdbc-9feaeb757390"
      },
      "outputs": [
        {
          "data": {
            "text/plain": [
              "Address\n",
              "121 Main St        3\n",
              "120 Miller St      1\n",
              "3331 Main St       1\n",
              "121 Main           1\n",
              "333 Main St        1\n",
              "555 Penelope       1\n",
              "1 Gatsby           1\n",
              "   5 West Smith    1\n",
              "Name: count, dtype: int64"
            ]
          },
          "execution_count": 27,
          "metadata": {},
          "output_type": "execute_result"
        }
      ],
      "source": [
        "data2['Address'].value_counts()"
      ]
    },
    {
      "cell_type": "code",
      "execution_count": null,
      "id": "17aee92f",
      "metadata": {
        "id": "17aee92f"
      },
      "outputs": [],
      "source": [
        "data3 = pd.read_csv('NeedsWranglingJoin.csv')"
      ]
    },
    {
      "cell_type": "code",
      "execution_count": null,
      "id": "dbdcab5f",
      "metadata": {
        "id": "dbdcab5f",
        "outputId": "b540794b-89eb-4d11-c2a7-f6142ab208cb"
      },
      "outputs": [
        {
          "data": {
            "text/html": [
              "<div>\n",
              "<style scoped>\n",
              "    .dataframe tbody tr th:only-of-type {\n",
              "        vertical-align: middle;\n",
              "    }\n",
              "\n",
              "    .dataframe tbody tr th {\n",
              "        vertical-align: top;\n",
              "    }\n",
              "\n",
              "    .dataframe thead th {\n",
              "        text-align: right;\n",
              "    }\n",
              "</style>\n",
              "<table border=\"1\" class=\"dataframe\">\n",
              "  <thead>\n",
              "    <tr style=\"text-align: right;\">\n",
              "      <th></th>\n",
              "      <th>CustomerID</th>\n",
              "      <th>Gender</th>\n",
              "    </tr>\n",
              "  </thead>\n",
              "  <tbody>\n",
              "    <tr>\n",
              "      <th>0</th>\n",
              "      <td>1</td>\n",
              "      <td>Male</td>\n",
              "    </tr>\n",
              "    <tr>\n",
              "      <th>1</th>\n",
              "      <td>3</td>\n",
              "      <td>Male</td>\n",
              "    </tr>\n",
              "    <tr>\n",
              "      <th>2</th>\n",
              "      <td>4</td>\n",
              "      <td>Male</td>\n",
              "    </tr>\n",
              "    <tr>\n",
              "      <th>3</th>\n",
              "      <td>6</td>\n",
              "      <td>Male</td>\n",
              "    </tr>\n",
              "    <tr>\n",
              "      <th>4</th>\n",
              "      <td>7</td>\n",
              "      <td>Male</td>\n",
              "    </tr>\n",
              "  </tbody>\n",
              "</table>\n",
              "</div>"
            ],
            "text/plain": [
              "   CustomerID Gender\n",
              "0           1   Male\n",
              "1           3   Male\n",
              "2           4   Male\n",
              "3           6   Male\n",
              "4           7   Male"
            ]
          },
          "execution_count": 29,
          "metadata": {},
          "output_type": "execute_result"
        }
      ],
      "source": [
        "data3.head()"
      ]
    },
    {
      "cell_type": "code",
      "execution_count": null,
      "id": "4c5766d2",
      "metadata": {
        "id": "4c5766d2"
      },
      "outputs": [],
      "source": [
        "join_data = pd.merge(data2,data3,on='CustomerID')"
      ]
    },
    {
      "cell_type": "code",
      "execution_count": null,
      "id": "861cb91e",
      "metadata": {
        "id": "861cb91e",
        "outputId": "475c7bef-f061-4c0f-de62-f9cef2db5aca"
      },
      "outputs": [
        {
          "data": {
            "text/html": [
              "<div>\n",
              "<style scoped>\n",
              "    .dataframe tbody tr th:only-of-type {\n",
              "        vertical-align: middle;\n",
              "    }\n",
              "\n",
              "    .dataframe tbody tr th {\n",
              "        vertical-align: top;\n",
              "    }\n",
              "\n",
              "    .dataframe thead th {\n",
              "        text-align: right;\n",
              "    }\n",
              "</style>\n",
              "<table border=\"1\" class=\"dataframe\">\n",
              "  <thead>\n",
              "    <tr style=\"text-align: right;\">\n",
              "      <th></th>\n",
              "      <th>CustomerID</th>\n",
              "      <th>Firstname</th>\n",
              "      <th>Lastname</th>\n",
              "      <th>Address</th>\n",
              "      <th>City</th>\n",
              "      <th>State</th>\n",
              "      <th>Zip</th>\n",
              "      <th>Email</th>\n",
              "      <th>Length</th>\n",
              "      <th>Gender</th>\n",
              "    </tr>\n",
              "  </thead>\n",
              "  <tbody>\n",
              "    <tr>\n",
              "      <th>0</th>\n",
              "      <td>1</td>\n",
              "      <td>Billy</td>\n",
              "      <td>Davis</td>\n",
              "      <td>121 Main St</td>\n",
              "      <td>Prescott</td>\n",
              "      <td>AZ</td>\n",
              "      <td>86305</td>\n",
              "      <td>Bd@dma.net</td>\n",
              "      <td>5</td>\n",
              "      <td>Male</td>\n",
              "    </tr>\n",
              "    <tr>\n",
              "      <th>1</th>\n",
              "      <td>1</td>\n",
              "      <td>Billy</td>\n",
              "      <td>Davis</td>\n",
              "      <td>121 Main St</td>\n",
              "      <td>Prescott</td>\n",
              "      <td>AZ</td>\n",
              "      <td>86305</td>\n",
              "      <td>Bd@dma.net</td>\n",
              "      <td>5</td>\n",
              "      <td>Male</td>\n",
              "    </tr>\n",
              "    <tr>\n",
              "      <th>2</th>\n",
              "      <td>2</td>\n",
              "      <td>Betty</td>\n",
              "      <td>Davis</td>\n",
              "      <td>121 Main St</td>\n",
              "      <td>Prescott</td>\n",
              "      <td>AZ</td>\n",
              "      <td>86305</td>\n",
              "      <td>db2@dma.net</td>\n",
              "      <td>5</td>\n",
              "      <td>Female</td>\n",
              "    </tr>\n",
              "    <tr>\n",
              "      <th>3</th>\n",
              "      <td>3</td>\n",
              "      <td>William</td>\n",
              "      <td>Franklin</td>\n",
              "      <td>120 Miller St</td>\n",
              "      <td>Prescott</td>\n",
              "      <td>AZ</td>\n",
              "      <td>86303</td>\n",
              "      <td>wf@dma.net</td>\n",
              "      <td>7</td>\n",
              "      <td>Male</td>\n",
              "    </tr>\n",
              "    <tr>\n",
              "      <th>4</th>\n",
              "      <td>4</td>\n",
              "      <td>John</td>\n",
              "      <td>Smith</td>\n",
              "      <td>3331 Main St</td>\n",
              "      <td>prescott</td>\n",
              "      <td>AZ</td>\n",
              "      <td>86302</td>\n",
              "      <td>js@dma.net</td>\n",
              "      <td>4</td>\n",
              "      <td>Male</td>\n",
              "    </tr>\n",
              "    <tr>\n",
              "      <th>5</th>\n",
              "      <td>5</td>\n",
              "      <td>Besty</td>\n",
              "      <td>Watson</td>\n",
              "      <td>121 Main</td>\n",
              "      <td>Prescott</td>\n",
              "      <td>AZ</td>\n",
              "      <td>86305</td>\n",
              "      <td>bw@dma.net</td>\n",
              "      <td>5</td>\n",
              "      <td>Female</td>\n",
              "    </tr>\n",
              "    <tr>\n",
              "      <th>6</th>\n",
              "      <td>6</td>\n",
              "      <td>Louis</td>\n",
              "      <td>Davis</td>\n",
              "      <td>121 Main St</td>\n",
              "      <td>Prescott</td>\n",
              "      <td>AZ</td>\n",
              "      <td>8601</td>\n",
              "      <td>ld@dma.net</td>\n",
              "      <td>5</td>\n",
              "      <td>Male</td>\n",
              "    </tr>\n",
              "    <tr>\n",
              "      <th>7</th>\n",
              "      <td>6</td>\n",
              "      <td>Louis</td>\n",
              "      <td>Davis</td>\n",
              "      <td>121 Main St</td>\n",
              "      <td>Prescott</td>\n",
              "      <td>AZ</td>\n",
              "      <td>8601</td>\n",
              "      <td>ld@dma.net</td>\n",
              "      <td>5</td>\n",
              "      <td>Male</td>\n",
              "    </tr>\n",
              "    <tr>\n",
              "      <th>8</th>\n",
              "      <td>7</td>\n",
              "      <td>Oscar</td>\n",
              "      <td>Swane</td>\n",
              "      <td>333 Main St</td>\n",
              "      <td>Prescott</td>\n",
              "      <td>AZ</td>\n",
              "      <td>86302</td>\n",
              "      <td>os@dma.net</td>\n",
              "      <td>5</td>\n",
              "      <td>Male</td>\n",
              "    </tr>\n",
              "    <tr>\n",
              "      <th>9</th>\n",
              "      <td>8</td>\n",
              "      <td>Allen</td>\n",
              "      <td>Lawson</td>\n",
              "      <td>555 Penelope</td>\n",
              "      <td>Prescott</td>\n",
              "      <td>AZ</td>\n",
              "      <td>86305</td>\n",
              "      <td>al@dma.net</td>\n",
              "      <td>5</td>\n",
              "      <td>Male</td>\n",
              "    </tr>\n",
              "    <tr>\n",
              "      <th>10</th>\n",
              "      <td>11</td>\n",
              "      <td>Laurie</td>\n",
              "      <td>Wallace</td>\n",
              "      <td>1 Gatsby</td>\n",
              "      <td>Prescott</td>\n",
              "      <td>AZ</td>\n",
              "      <td>86305</td>\n",
              "      <td>lw@dma.net</td>\n",
              "      <td>6</td>\n",
              "      <td>Female</td>\n",
              "    </tr>\n",
              "    <tr>\n",
              "      <th>11</th>\n",
              "      <td>12</td>\n",
              "      <td>William</td>\n",
              "      <td>Frank</td>\n",
              "      <td>5 West Smith</td>\n",
              "      <td>Prescutt</td>\n",
              "      <td>AZ</td>\n",
              "      <td>86305</td>\n",
              "      <td>wf@dma.net</td>\n",
              "      <td>7</td>\n",
              "      <td>Male</td>\n",
              "    </tr>\n",
              "  </tbody>\n",
              "</table>\n",
              "</div>"
            ],
            "text/plain": [
              "    CustomerID Firstname  Lastname          Address      City State    Zip   \n",
              "0            1     Billy     Davis      121 Main St  Prescott    AZ  86305  \\\n",
              "1            1     Billy     Davis      121 Main St  Prescott    AZ  86305   \n",
              "2            2     Betty     Davis      121 Main St  Prescott    AZ  86305   \n",
              "3            3   William  Franklin    120 Miller St  Prescott    AZ  86303   \n",
              "4            4      John     Smith     3331 Main St  prescott    AZ  86302   \n",
              "5            5     Besty    Watson         121 Main  Prescott    AZ  86305   \n",
              "6            6     Louis     Davis      121 Main St  Prescott    AZ   8601   \n",
              "7            6     Louis     Davis      121 Main St  Prescott    AZ   8601   \n",
              "8            7     Oscar     Swane      333 Main St  Prescott    AZ  86302   \n",
              "9            8     Allen    Lawson     555 Penelope  Prescott    AZ  86305   \n",
              "10          11    Laurie   Wallace         1 Gatsby  Prescott    AZ  86305   \n",
              "11          12   William    Frank      5 West Smith  Prescutt    AZ  86305   \n",
              "\n",
              "          Email  Length  Gender  \n",
              "0    Bd@dma.net       5    Male  \n",
              "1    Bd@dma.net       5    Male  \n",
              "2   db2@dma.net       5  Female  \n",
              "3    wf@dma.net       7    Male  \n",
              "4    js@dma.net       4    Male  \n",
              "5    bw@dma.net       5  Female  \n",
              "6    ld@dma.net       5    Male  \n",
              "7    ld@dma.net       5    Male  \n",
              "8    os@dma.net       5    Male  \n",
              "9    al@dma.net       5    Male  \n",
              "10   lw@dma.net       6  Female  \n",
              "11   wf@dma.net       7    Male  "
            ]
          },
          "execution_count": 31,
          "metadata": {},
          "output_type": "execute_result"
        }
      ],
      "source": [
        "join_data"
      ]
    },
    {
      "cell_type": "markdown",
      "id": "656375bd",
      "metadata": {
        "id": "656375bd"
      },
      "source": [
        "# Assignment Data File\n",
        "# mk07218 - Muhammad Khubaib\n",
        "# Data Science HW 2"
      ]
    },
    {
      "cell_type": "code",
      "execution_count": null,
      "id": "d73aad71-e6a5-4100-b048-7b0e35a3910d",
      "metadata": {
        "id": "d73aad71-e6a5-4100-b048-7b0e35a3910d"
      },
      "outputs": [],
      "source": [
        "#Starting PART 1 of the HW"
      ]
    },
    {
      "cell_type": "code",
      "execution_count": null,
      "id": "907063b4",
      "metadata": {
        "id": "907063b4"
      },
      "outputs": [],
      "source": [
        "import pandas as pd"
      ]
    },
    {
      "cell_type": "code",
      "execution_count": null,
      "id": "58e43ee4",
      "metadata": {
        "id": "58e43ee4"
      },
      "outputs": [],
      "source": [
        "df = pd.read_csv('580SurveyCleanup.csv')"
      ]
    },
    {
      "cell_type": "code",
      "execution_count": null,
      "id": "5d39497b",
      "metadata": {
        "id": "5d39497b"
      },
      "outputs": [],
      "source": [
        "df_1 = df.iloc[:,1:12]"
      ]
    },
    {
      "cell_type": "code",
      "execution_count": null,
      "id": "72e3eebc",
      "metadata": {
        "id": "72e3eebc"
      },
      "outputs": [],
      "source": [
        "df_1.columns = df_1.iloc[0]\n",
        "df_1 = df_1[1:]"
      ]
    },
    {
      "cell_type": "code",
      "execution_count": null,
      "id": "525bab0e-2c10-4ff6-88b7-0da6a996b081",
      "metadata": {
        "id": "525bab0e-2c10-4ff6-88b7-0da6a996b081"
      },
      "outputs": [],
      "source": [
        "#solving for Q2\n",
        "\n",
        "dfk = df.iloc[:,[14,15,16,17]]\n",
        "dfk.columns = dfk.iloc[0].astype(str)\n",
        "dfk = dfk[1:]\n",
        "dfk['Male'] = dfk['Male'].replace('1','Male')\n",
        "dfk['Female'] = dfk['Female'].replace('1','Female')\n",
        "dfk['NonBinary'] = dfk['NonBinary'].replace('1','NonBinary')\n",
        "dfk['Prefer not to answer'] = dfk['Prefer not to answer'].replace('1','Prefer not to answer')\n",
        "dfk = dfk.fillna('')\n",
        "dfk = pd.DataFrame(dfk.iloc[:,1] + dfk.iloc[:,0]+ dfk.iloc[:,2]+ dfk.iloc[:,3])\n",
        "dfk.columns = ['Q2']"
      ]
    },
    {
      "cell_type": "code",
      "execution_count": null,
      "id": "2da05c1d-be85-4743-bd68-64a1e2f5c2ba",
      "metadata": {
        "id": "2da05c1d-be85-4743-bd68-64a1e2f5c2ba"
      },
      "outputs": [],
      "source": [
        "#solving for Q8\n",
        "\n",
        "dft = df.iloc[:,[23,24,25,26]]\n",
        "dft.columns = dft.iloc[0].astype(str)\n",
        "dft = dft[1:]\n",
        "dft['Microsoft/Windows'] = dft['Microsoft/Windows'].replace(['0','1','2'],'Win')\n",
        "dft['Apple/MacBook'] = dft['Apple/MacBook'].replace(['0','1','2'],'Mac')\n",
        "dft['Other'] = dft['Other'].replace(['0','1','2'],'Other')\n",
        "dft = dft.fillna('')\n",
        "dft = pd.DataFrame(dft.iloc[:,1] + dft.iloc[:,0]+ dft.iloc[:,2]+ dft.iloc[:,3])\n",
        "dft.columns = ['Q8']"
      ]
    },
    {
      "cell_type": "code",
      "execution_count": null,
      "id": "74c36695-829c-454d-8c66-6788b10efd04",
      "metadata": {
        "id": "74c36695-829c-454d-8c66-6788b10efd04"
      },
      "outputs": [],
      "source": [
        "#solving for Q9\n",
        "\n",
        "dfq = df.iloc[:,[27,28,29]]\n",
        "dfq.columns = dfq.iloc[0].astype(str)\n",
        "dfq = dfq[1:]\n",
        "dfq['Yes, Full Time'] = dfq['Yes, Full Time'].replace('1','full time')\n",
        "dfq['Working, but not Full Time'] = dfq['Working, but not Full Time'].replace(['0','1','2'],'part time')\n",
        "dfq['Not Working while attending Mason'] = dfq['Not Working while attending Mason'].replace(['0','1','2'],'not working')\n",
        "dfq = dfq.fillna('')\n",
        "dfq = pd.DataFrame(dfq.iloc[:,1] + dfq.iloc[:,0]+ dfq.iloc[:,2])\n",
        "dfq.columns = ['Q9']"
      ]
    },
    {
      "cell_type": "code",
      "execution_count": null,
      "id": "7a780122-2fbb-4c01-a8e7-de4969e2f462",
      "metadata": {
        "id": "7a780122-2fbb-4c01-a8e7-de4969e2f462"
      },
      "outputs": [],
      "source": [
        "#solving for Q10\n",
        "\n",
        "dfr = df.iloc[:,[30,31,32,33,34]]\n",
        "dfr.columns = dfr.iloc[0].astype(str)\n",
        "dfr = dfr[1:]\n",
        "dfr['Little/none'] = dfr['Little/none'].replace('1','little/none')\n",
        "dfr['Some familiarity'] = dfr['Some familiarity'].replace('1','some')\n",
        "dfr['Average user'] = dfr['Average user'].replace('1','average')\n",
        "dfr['Frequent use for projects'] = dfr['Frequent use for projects'].replace('1','frequent user')\n",
        "dfr['Fluent/expert'] = dfr['Fluent/expert'].replace('1','expert')\n",
        "dfr = dfr.fillna('')\n",
        "dfr = pd.DataFrame(dfr.iloc[:,1] + dfr.iloc[:,0]+ dfr.iloc[:,2]+ dfr.iloc[:,3]+ dfr.iloc[:,4])\n",
        "dfr.columns = ['Q10']"
      ]
    },
    {
      "cell_type": "code",
      "execution_count": null,
      "id": "0e92dab0-490f-4cb3-991f-2cdf521c11af",
      "metadata": {
        "id": "0e92dab0-490f-4cb3-991f-2cdf521c11af"
      },
      "outputs": [],
      "source": [
        "#solving for Q11\n",
        "\n",
        "dfs = df.iloc[:,[35,36,37,38,39]]\n",
        "dfs.columns = dfs.iloc[0].astype(str)\n",
        "dfs = dfs[1:]\n",
        "dfs['Little/none'] = dfs['Little/none'].replace('1','little/none')\n",
        "dfs['Some familiarity'] = dfs['Some familiarity'].replace('1','some')\n",
        "dfs['Average user'] = dfs['Average user'].replace('1','average')\n",
        "dfs['Frequent use for projects'] = dfs['Frequent use for projects'].replace('1','frequent user')\n",
        "dfs['Fluent/expert'] = dfs['Fluent/expert'].replace('1','expert')\n",
        "dfs = dfs.fillna('')\n",
        "dfs = pd.DataFrame(dfs.iloc[:,1] + dfs.iloc[:,0]+ dfs.iloc[:,2]+ dfs.iloc[:,3]+ dfs.iloc[:,4])\n",
        "dfs.columns = ['Q11']"
      ]
    },
    {
      "cell_type": "code",
      "execution_count": null,
      "id": "52465d40-d188-465a-83f3-84718aba5ab5",
      "metadata": {
        "id": "52465d40-d188-465a-83f3-84718aba5ab5"
      },
      "outputs": [],
      "source": [
        "#solving for Q12\n",
        "\n",
        "dfz = df.iloc[:,[40,41,42,43,44]]\n",
        "dfz.columns = dfz.iloc[0].astype(str)\n",
        "dfz = dfz[1:]\n",
        "dfz['Little/none'] = dfz['Little/none'].replace('1','little/none')\n",
        "dfz['Some familiarity'] = dfz['Some familiarity'].replace('1','some')\n",
        "dfz['Average user'] = dfz['Average user'].replace('1','average')\n",
        "dfz['Frequent use for projects'] = dfz['Frequent use for projects'].replace('1','frequent user')\n",
        "dfz['Fluent/expert'] = dfz['Fluent/expert'].replace('1','expert')\n",
        "dfz = dfz.fillna('')\n",
        "dfz = pd.DataFrame(dfz.iloc[:,1] + dfz.iloc[:,0]+ dfz.iloc[:,2]+ dfz.iloc[:,3]+ dfz.iloc[:,4])\n",
        "dfz.columns = ['Q12']"
      ]
    },
    {
      "cell_type": "code",
      "execution_count": null,
      "id": "e4bcb738",
      "metadata": {
        "id": "e4bcb738"
      },
      "outputs": [],
      "source": [
        "df2 = df.iloc[:,[12,13]]"
      ]
    },
    {
      "cell_type": "code",
      "execution_count": null,
      "id": "473676e0",
      "metadata": {
        "id": "473676e0"
      },
      "outputs": [],
      "source": [
        "df2.columns = df2.iloc[0].astype(str)\n",
        "df2 = df2[1:]"
      ]
    },
    {
      "cell_type": "code",
      "execution_count": null,
      "id": "2b69df00",
      "metadata": {
        "id": "2b69df00"
      },
      "outputs": [],
      "source": [
        "df3 = df2.loc[:, '2.0':'4.0'].replace(1, pd.Series(df2.columns, df2.columns)).fillna('')"
      ]
    },
    {
      "cell_type": "code",
      "execution_count": null,
      "id": "63b41863",
      "metadata": {
        "id": "63b41863"
      },
      "outputs": [],
      "source": [
        "df4 = pd.DataFrame(df3.iloc[:,0] + df3.iloc[:,1])"
      ]
    },
    {
      "cell_type": "code",
      "execution_count": null,
      "id": "8fd36fc2",
      "metadata": {
        "id": "8fd36fc2"
      },
      "outputs": [],
      "source": [
        "df4.columns = ['Q1']"
      ]
    },
    {
      "cell_type": "code",
      "execution_count": null,
      "id": "41c6fc96",
      "metadata": {
        "id": "41c6fc96"
      },
      "outputs": [],
      "source": [
        "df5 = pd.concat([df_1,df4],axis=1)"
      ]
    },
    {
      "cell_type": "code",
      "execution_count": null,
      "id": "6f2faa6f-901e-49c8-9527-b4b70af0b2fc",
      "metadata": {
        "id": "6f2faa6f-901e-49c8-9527-b4b70af0b2fc"
      },
      "outputs": [],
      "source": [
        "#joining everything\n",
        "\n",
        "dfh = df.iloc[:,[18,19,20,21,22]]\n",
        "dfh = dfh[1:]\n",
        "dfc = df.iloc[:,[45]]\n",
        "dfc = dfc[1:]\n",
        "dfc = dfc.fillna('')\n",
        "dfc.columns = ['Q13']\n",
        "\n",
        "dfy = pd.concat([df5,dfk,dfh,dft,dfq,dfr,dfs,dfz,dfc],axis=1)\n",
        "dfy\n",
        "dfy.to_csv('formatted_580SurveyCleanup.csv', index = False)"
      ]
    },
    {
      "cell_type": "code",
      "execution_count": null,
      "id": "364e7966-2e2e-4147-bb3a-045f2a19872d",
      "metadata": {
        "id": "364e7966-2e2e-4147-bb3a-045f2a19872d"
      },
      "outputs": [],
      "source": [
        "#THIS ENDS PART 1 of the HW"
      ]
    },
    {
      "cell_type": "code",
      "execution_count": null,
      "id": "6de1a192-3aec-460a-8173-9519a86e410c",
      "metadata": {
        "id": "6de1a192-3aec-460a-8173-9519a86e410c"
      },
      "outputs": [],
      "source": [
        "#STARTING PART 2 of the HW"
      ]
    },
    {
      "cell_type": "code",
      "execution_count": null,
      "id": "e1d6a470-441b-4a87-a1db-2690884c0e1d",
      "metadata": {
        "id": "e1d6a470-441b-4a87-a1db-2690884c0e1d"
      },
      "outputs": [],
      "source": [
        "import numpy as np\n",
        "data = pd.read_csv('formatted_580SurveyCleanup.csv')\n",
        "po = data.isnull().sum()"
      ]
    },
    {
      "cell_type": "code",
      "execution_count": null,
      "id": "34803c59-84af-4030-91c5-09536d0aff11",
      "metadata": {
        "id": "34803c59-84af-4030-91c5-09536d0aff11"
      },
      "outputs": [],
      "source": [
        "#Using the above method, we found out that Access code, Email address, Region, City/Town/District, Q4 - Q13 have missing values."
      ]
    },
    {
      "cell_type": "code",
      "execution_count": null,
      "id": "2e2f5266-8717-4e3d-8529-22995bf65297",
      "metadata": {
        "id": "2e2f5266-8717-4e3d-8529-22995bf65297"
      },
      "outputs": [],
      "source": [
        "data = data.drop(['Access Code', 'Email Address'], axis=1)"
      ]
    },
    {
      "cell_type": "code",
      "execution_count": null,
      "id": "c7f4aaf1-0c97-4512-8535-5b8af0f7631f",
      "metadata": {
        "id": "c7f4aaf1-0c97-4512-8535-5b8af0f7631f",
        "outputId": "240e5e53-c88a-4e00-dd5c-1636ea8baf46"
      },
      "outputs": [
        {
          "name": "stderr",
          "output_type": "stream",
          "text": [
            "/tmp/ipykernel_161/1323340610.py:5: FutureWarning: The default value of regex will change from True to False in a future version.\n",
            "  data['Q4'] = data['Q4'].str.replace('5.2','52')\n"
          ]
        }
      ],
      "source": [
        "#replacing Q4 data with mean\n",
        "\n",
        "data['Q4'] = data['Q4'].str.replace('O','0')\n",
        "data['Q4'] = data['Q4'].str.replace('l','1')\n",
        "data['Q4'] = data['Q4'].str.replace('5.2','52')\n",
        "data['Q4'].fillna(data['Q4'].mode()[0], inplace=True)"
      ]
    },
    {
      "cell_type": "code",
      "execution_count": null,
      "id": "62c9a86c-c012-41e1-bc83-c3069ee3b9ee",
      "metadata": {
        "id": "62c9a86c-c012-41e1-bc83-c3069ee3b9ee"
      },
      "outputs": [],
      "source": [
        "#solving for Q8, Q9,Q10, Q11,Q12\n",
        "data['Q8'].fillna(data['Q8'].mode()[0], inplace=True)\n",
        "data['Q9'].fillna(data['Q9'].mode()[0], inplace=True)\n",
        "data['Q10'].fillna(data['Q10'].mode()[0], inplace=True)\n",
        "data['Q11'].fillna(data['Q11'].mode()[0], inplace=True)\n",
        "data['Q12'].fillna(data['Q12'].mode()[0], inplace=True)"
      ]
    },
    {
      "cell_type": "code",
      "execution_count": null,
      "id": "4735f924-ed29-4cf9-b1cc-a0929238592f",
      "metadata": {
        "id": "4735f924-ed29-4cf9-b1cc-a0929238592f"
      },
      "outputs": [],
      "source": [
        "data['Region'].fillna(data['Region'].mode()[0], inplace=True)\n",
        "data['City / Town / District'].fillna(data['City / Town / District'].mode()[0], inplace=True)"
      ]
    },
    {
      "cell_type": "code",
      "execution_count": null,
      "id": "d447435f-c4a6-4d48-99bd-ee423177497c",
      "metadata": {
        "id": "d447435f-c4a6-4d48-99bd-ee423177497c"
      },
      "outputs": [],
      "source": [
        "data['Q3'] = data['Q3'].replace('1993',2023-1993)\n",
        "data['Q3'] = data['Q3'].str.replace(' ','')\n",
        "data['Q3'].fillna(data['Q3'].mode()[0], inplace=True)"
      ]
    },
    {
      "cell_type": "code",
      "execution_count": null,
      "id": "215c7f89-ddb5-461e-83f9-85151318b7b8",
      "metadata": {
        "id": "215c7f89-ddb5-461e-83f9-85151318b7b8"
      },
      "outputs": [],
      "source": [
        "data['Q5'] = data['Q5'].str.title()\n",
        "data['Q5'] = data['Q5'].str.strip()\n",
        "data['Q5'] = data['Q5'].replace(['Usa', 'United States', 'United states', 'Us'], 'USA')\n",
        "data['Q5'] = data['Q5'].replace(['United States ; Pakistan'], 'USA ; Pakistan')\n",
        "data['Q5'] = data['Q5'].fillna('Not responded', inplace=False)"
      ]
    },
    {
      "cell_type": "code",
      "execution_count": null,
      "id": "832f8d16-f7a5-4aa1-8897-7ab23f6cab3c",
      "metadata": {
        "id": "832f8d16-f7a5-4aa1-8897-7ab23f6cab3c"
      },
      "outputs": [],
      "source": [
        "data['Q6'] = data['Q6'].str.title()\n",
        "data['Q6'] = data['Q6'].str.strip()\n",
        "data['Q6'] = data['Q6'].replace('Economic', 'Economics')\n",
        "data['Q6'] = data['Q6'].replace(['Cse', 'Computer science engineering ', 'Computer engineering'], 'Computer Science and Engineering')\n",
        "data['Q6'] = data['Q6'].replace(['Bachelor of engineering ', 'Engineering '], 'Engineering')\n",
        "data['Q6'] = data['Q6'].replace('Criminology law and soci', 'Criminology law and social sciences')\n",
        "data['Q6'] = data['Q6'].replace('Bit','Business Information Technology')\n",
        "data['Q6'] = data['Q6'].replace('Ece', 'ECE')\n",
        "data['Q6'] = data['Q6'].replace('Yes', np.NaN)\n",
        "data['Q6'] = data['Q6'].replace('B.tech in cs', 'Computer science')\n",
        "data['Q6'].fillna(data['Q6'].mode()[0], inplace=True)"
      ]
    },
    {
      "cell_type": "code",
      "execution_count": null,
      "id": "741e29f9-2222-49f3-8f25-9eb166b2243d",
      "metadata": {
        "id": "741e29f9-2222-49f3-8f25-9eb166b2243d"
      },
      "outputs": [],
      "source": [
        "data['Q7'] = data['Q7'].fillna('Not responded', inplace=False)\n",
        "data['Q8'] = data['Q8'].replace('MacWin', 'Windows and Macbook')\n",
        "data['Q13'] = data['Q13'].fillna('Not responded', inplace=False)"
      ]
    },
    {
      "cell_type": "code",
      "execution_count": null,
      "id": "cbc9ccbf-f1ea-4a7f-9d7c-f9ccd6783b23",
      "metadata": {
        "id": "cbc9ccbf-f1ea-4a7f-9d7c-f9ccd6783b23"
      },
      "outputs": [],
      "source": [
        "data.to_csv('cleaned_580SurveyCleanup.csv', index = False)"
      ]
    },
    {
      "cell_type": "code",
      "execution_count": null,
      "id": "d0cdda2e-9566-4b62-941d-1aa0eb887336",
      "metadata": {
        "id": "d0cdda2e-9566-4b62-941d-1aa0eb887336"
      },
      "outputs": [],
      "source": [
        "#This marks the end of part 2"
      ]
    },
    {
      "cell_type": "code",
      "execution_count": null,
      "id": "d5978a26-1603-4665-bf37-05b79024fa8e",
      "metadata": {
        "id": "d5978a26-1603-4665-bf37-05b79024fa8e"
      },
      "outputs": [],
      "source": [
        "#Starting part 3 of DS HW"
      ]
    },
    {
      "cell_type": "code",
      "execution_count": null,
      "id": "c9048f52-2efd-45b7-a7cf-b70655e66e73",
      "metadata": {
        "id": "c9048f52-2efd-45b7-a7cf-b70655e66e73"
      },
      "outputs": [],
      "source": [
        "fdata = pd.read_csv('cleaned_580SurveyCleanup.csv')"
      ]
    },
    {
      "cell_type": "code",
      "execution_count": null,
      "id": "097301ca-bc5a-4a6c-bc86-44a3434a2afa",
      "metadata": {
        "id": "097301ca-bc5a-4a6c-bc86-44a3434a2afa",
        "outputId": "897022ef-f7d7-4130-e0c4-f3883604a945"
      },
      "outputs": [
        {
          "name": "stdout",
          "output_type": "stream",
          "text": [
            "Count: \n",
            " 2.0    20\n",
            "4.0    16\n",
            "Name: Q1, dtype: int64\n",
            "\n",
            "Mode: \n",
            " 0    2.0\n",
            "Name: Q1, dtype: float64\n",
            "\n",
            "Summary:  count    36.000000\n",
            "mean      2.888889\n",
            "std       1.007905\n",
            "min       2.000000\n",
            "25%       2.000000\n",
            "50%       2.000000\n",
            "75%       4.000000\n",
            "max       4.000000\n",
            "Name: Q1, dtype: float64\n"
          ]
        }
      ],
      "source": [
        "#for Q1\n",
        "print(\"Count: \\n\", fdata['Q1'].value_counts())\n",
        "print(\"\\nMode: \\n\",fdata['Q1'].mode())\n",
        "print(\"\\nSummary: \", fdata['Q1'].describe())\n",
        "\n",
        "#it can be seen that more students are in section 2.0."
      ]
    },
    {
      "cell_type": "code",
      "execution_count": null,
      "id": "d8001750-e7e3-4ac3-85a6-7624ebc3d785",
      "metadata": {
        "id": "d8001750-e7e3-4ac3-85a6-7624ebc3d785",
        "outputId": "056a10f4-9f60-4d3b-a647-f86cb16d7121"
      },
      "outputs": [
        {
          "name": "stdout",
          "output_type": "stream",
          "text": [
            "Count: \n",
            " Male                    18\n",
            "Female                  16\n",
            "Prefer not to answer     1\n",
            "NonBinary                1\n",
            "Name: Q2, dtype: int64\n",
            "\n",
            "Mode: \n",
            " 0    Male\n",
            "Name: Q2, dtype: object\n",
            "\n",
            "Summary:  count       36\n",
            "unique       4\n",
            "top       Male\n",
            "freq        18\n",
            "Name: Q2, dtype: object\n"
          ]
        }
      ],
      "source": [
        "#for Q2\n",
        "print(\"Count: \\n\", fdata['Q2'].value_counts())\n",
        "print(\"\\nMode: \\n\",fdata['Q2'].mode())\n",
        "print(\"\\nSummary: \", fdata['Q2'].describe())\n",
        "\n",
        "#It can be seen that there are more males than females in the class. There is one unique value which is the NonBinary one."
      ]
    },
    {
      "cell_type": "code",
      "execution_count": null,
      "id": "53b8fff1-caaf-495f-97cb-c8671ab5fb3d",
      "metadata": {
        "id": "53b8fff1-caaf-495f-97cb-c8671ab5fb3d",
        "outputId": "68c9be53-2cb6-4ee4-9bf0-c34f733b3c60"
      },
      "outputs": [
        {
          "name": "stdout",
          "output_type": "stream",
          "text": [
            "Count: \n",
            " 23    9\n",
            "25    6\n",
            "24    5\n",
            "26    3\n",
            "40    2\n",
            "30    2\n",
            "22    2\n",
            "27    2\n",
            "28    2\n",
            "31    1\n",
            "35    1\n",
            "55    1\n",
            "Name: Q3, dtype: int64\n",
            "\n",
            "Mode: \n",
            " 0    23\n",
            "Name: Q3, dtype: int64\n",
            "\n",
            "Median:  25.0\n",
            "\n",
            "Minimum:  22\n",
            "\n",
            "Maximum:  55\n",
            "\n",
            "Summary:  count    36.000000\n",
            "mean     26.944444\n",
            "std       6.520055\n",
            "min      22.000000\n",
            "25%      23.000000\n",
            "50%      25.000000\n",
            "75%      27.250000\n",
            "max      55.000000\n",
            "Name: Q3, dtype: float64\n"
          ]
        }
      ],
      "source": [
        "#for Q3\n",
        "print(\"Count: \\n\", fdata['Q3'].value_counts())\n",
        "print(\"\\nMode: \\n\",fdata['Q3'].mode())\n",
        "print(\"\\nMedian: \", fdata['Q3'].median())\n",
        "print(\"\\nMinimum: \", fdata['Q3'].min())\n",
        "print(\"\\nMaximum: \", fdata['Q3'].max())\n",
        "print(\"\\nSummary: \", fdata['Q3'].describe())\n",
        "\n",
        "#The minimum age is 22 and the maximum age is 55 (this might be wrong but can't be sure). The most common age bracket in the class is from 23-27. The mean is also below 30."
      ]
    },
    {
      "cell_type": "code",
      "execution_count": null,
      "id": "b1dcfcf7-a883-452f-98d1-2c04ee1e7f1f",
      "metadata": {
        "id": "b1dcfcf7-a883-452f-98d1-2c04ee1e7f1f",
        "outputId": "6cabbc4b-a380-43b8-a646-da6238dbcbb1"
      },
      "outputs": [
        {
          "name": "stdout",
          "output_type": "stream",
          "text": [
            "Count: \n",
            " 66    6\n",
            "70    5\n",
            "67    5\n",
            "68    3\n",
            "71    3\n",
            "72    2\n",
            "65    1\n",
            "56    1\n",
            "64    1\n",
            "61    1\n",
            "75    1\n",
            "63    1\n",
            "74    1\n",
            "60    1\n",
            "59    1\n",
            "69    1\n",
            "52    1\n",
            "73    1\n",
            "Name: Q4, dtype: int64\n",
            "\n",
            "Mode: \n",
            " 0    66\n",
            "Name: Q4, dtype: int64\n",
            "\n",
            "Minimum:  52\n",
            "\n",
            "Maximum:  75\n",
            "\n",
            "Summary:  count    36.000000\n",
            "mean     67.027778\n",
            "std       4.866716\n",
            "min      52.000000\n",
            "25%      66.000000\n",
            "50%      67.000000\n",
            "75%      70.000000\n",
            "max      75.000000\n",
            "Name: Q4, dtype: float64\n"
          ]
        }
      ],
      "source": [
        "#for Q4\n",
        "print(\"Count: \\n\", fdata['Q4'].value_counts())\n",
        "print(\"\\nMode: \\n\",fdata['Q4'].mode())\n",
        "print(\"\\nMinimum: \", fdata['Q4'].min())\n",
        "print(\"\\nMaximum: \", fdata['Q4'].max())\n",
        "print(\"\\nSummary: \", fdata['Q4'].describe())\n",
        "\n",
        "#The minimum height is 52 inches (which was written as 5.2 initially) and the max height is 77 inches. The mean is 67 inches. The bracket of 60-68 is common."
      ]
    },
    {
      "cell_type": "code",
      "execution_count": null,
      "id": "fee71063-bdd0-4761-ac72-7e69094c6b83",
      "metadata": {
        "id": "fee71063-bdd0-4761-ac72-7e69094c6b83",
        "outputId": "11e19fe3-36dd-4343-8225-9639b583c829"
      },
      "outputs": [
        {
          "name": "stdout",
          "output_type": "stream",
          "text": [
            "Count: \n",
            " India             10\n",
            "USA                9\n",
            "Uzbekistan         3\n",
            "Taiwan             2\n",
            "Not responded      2\n",
            "China              2\n",
            "Nigeria            2\n",
            "South Korea        1\n",
            "Pakistan           1\n",
            "Romania            1\n",
            "Ethiopia           1\n",
            "USA ; Pakistan     1\n",
            "Vietnam            1\n",
            "Name: Q5, dtype: int64\n",
            "\n",
            "Mode: \n",
            " 0    India\n",
            "Name: Q5, dtype: object\n",
            "\n",
            "Summary:  count        36\n",
            "unique       13\n",
            "top       India\n",
            "freq         10\n",
            "Name: Q5, dtype: object\n"
          ]
        }
      ],
      "source": [
        "#for Q5\n",
        "print(\"Count: \\n\", fdata['Q5'].value_counts())\n",
        "print(\"\\nMode: \\n\",fdata['Q5'].mode())\n",
        "print(\"\\nSummary: \", fdata['Q5'].describe())\n",
        "\n",
        "#From the data it can be seen that most students in the class are from India, and after that with a difference of only one, 9 students are from USA. Some students have not responded to the question so it may be that USA might have been the most popular had they responded. There are certain unique values such as South Korea, Vietnam, and others. We can say that students from a very diverse background study in this class."
      ]
    },
    {
      "cell_type": "code",
      "execution_count": null,
      "id": "c55437cd-31ea-4081-a1b6-eb1402831e41",
      "metadata": {
        "id": "c55437cd-31ea-4081-a1b6-eb1402831e41",
        "outputId": "6b283de0-f8f5-42e7-c91e-0adb512648db"
      },
      "outputs": [
        {
          "name": "stdout",
          "output_type": "stream",
          "text": [
            "Count: \n",
            " Economics                           8\n",
            "Finance                             3\n",
            "Computer Science                    2\n",
            "Economics With Finance              2\n",
            "Bachelor Of Engineering             2\n",
            "Criminology Law And Soci            1\n",
            "Bs Accounting                       1\n",
            "B.Tech In Cs                        1\n",
            "Quantity Surveying                  1\n",
            "ECE                                 1\n",
            "Civil Engineering                   1\n",
            "Systems Engineering                 1\n",
            "Mathematics & Statistics            1\n",
            "Statistics                          1\n",
            "Accounting And Isom                 1\n",
            "Engineering                         1\n",
            "Management                          1\n",
            "Computer Science and Engineering    1\n",
            "Biology                             1\n",
            "Computer Engineering                1\n",
            "Business Information Technology     1\n",
            "Business Management                 1\n",
            "Computer Applications               1\n",
            "Psychology                          1\n",
            "Name: Q6, dtype: int64\n",
            "\n",
            "Mode: \n",
            " 0    Economics\n",
            "Name: Q6, dtype: object\n",
            "\n",
            "Summary:  count            36\n",
            "unique           24\n",
            "top       Economics\n",
            "freq              8\n",
            "Name: Q6, dtype: object\n"
          ]
        }
      ],
      "source": [
        "#for Q6\n",
        "print(\"Count: \\n\", fdata['Q6'].value_counts())\n",
        "print(\"\\nMode: \\n\",fdata['Q6'].mode())\n",
        "print(\"\\nSummary: \", fdata['Q6'].describe())\n",
        "\n",
        "#From the data it can be seen that most students are from Economics Major. There are a lot of unique values such as Statistics, ECE, and others. Most students are from management and sciences field, while few are from social sciences too. The diverse majors show how data analytics is important everywhere."
      ]
    },
    {
      "cell_type": "code",
      "execution_count": null,
      "id": "6a9f6b22-fc91-46c7-8098-7a45b6951153",
      "metadata": {
        "id": "6a9f6b22-fc91-46c7-8098-7a45b6951153",
        "outputId": "d89719a4-1410-4882-e408-30d0c827c5c4"
      },
      "outputs": [
        {
          "name": "stdout",
          "output_type": "stream",
          "text": [
            "Count: \n",
            " 2021-12-31       3\n",
            "Not responded    3\n",
            "2022-05-01       3\n",
            "2021-12-20       3\n",
            "2021-12-18       2\n",
            "2021-12-15       2\n",
            "2021-05-01       2\n",
            "2022-05-15       1\n",
            "2021-12-21       1\n",
            "2021-12-30       1\n",
            "2023-05-24       1\n",
            "2021-12-11       1\n",
            "2021-05-30       1\n",
            "2022-12-19       1\n",
            "2021-05-14       1\n",
            "2021-01-12       1\n",
            "2022-04-16       1\n",
            "2022-05-31       1\n",
            "2021-12-25       1\n",
            "2021-08-26       1\n",
            "2021-05-31       1\n",
            "2022-07-15       1\n",
            "2021-01-01       1\n",
            "2022-06-01       1\n",
            "2022-12-12       1\n",
            "Name: Q7, dtype: int64\n",
            "\n",
            "Mode: \n",
            " 0       2021-12-20\n",
            "1       2021-12-31\n",
            "2       2022-05-01\n",
            "3    Not responded\n",
            "Name: Q7, dtype: object\n",
            "\n",
            "Minimum:  2021-01-01\n",
            "\n",
            "Maximum:  Not responded\n",
            "\n",
            "Summary:  count             36\n",
            "unique            25\n",
            "top       2021-12-31\n",
            "freq               3\n",
            "Name: Q7, dtype: object\n"
          ]
        }
      ],
      "source": [
        "#for Q7\n",
        "print(\"Count: \\n\", fdata['Q7'].value_counts())\n",
        "print(\"\\nMode: \\n\",fdata['Q7'].mode())\n",
        "print(\"\\nMinimum: \", fdata['Q7'].min())\n",
        "print(\"\\nMaximum: \", fdata['Q7'].max())\n",
        "print(\"\\nSummary: \", fdata['Q7'].describe())\n",
        "\n",
        "#most students are expected to graduate during 2021 in the month of December. Some students will be graduating in 2022, while only a few graduating in 2023."
      ]
    },
    {
      "cell_type": "code",
      "execution_count": null,
      "id": "6be3a263-da67-443d-ac1b-2170f201b5fa",
      "metadata": {
        "id": "6be3a263-da67-443d-ac1b-2170f201b5fa",
        "outputId": "8063e373-8bbe-42cc-f299-b3239df2903c"
      },
      "outputs": [
        {
          "name": "stdout",
          "output_type": "stream",
          "text": [
            "Count: \n",
            " Win                    24\n",
            "Mac                     8\n",
            "Windows and Macbook     3\n",
            "OtherAcer/Windows       1\n",
            "Name: Q8, dtype: int64\n",
            "\n",
            "Mode: \n",
            " 0    Win\n",
            "Name: Q8, dtype: object\n",
            "\n",
            "Summary:  count      36\n",
            "unique      4\n",
            "top       Win\n",
            "freq       24\n",
            "Name: Q8, dtype: object\n"
          ]
        }
      ],
      "source": [
        "#for Q8\n",
        "print(\"Count: \\n\", fdata['Q8'].value_counts())\n",
        "print(\"\\nMode: \\n\",fdata['Q8'].mode())\n",
        "print(\"\\nSummary: \", fdata['Q8'].describe())\n",
        "\n",
        "#With the given data, we can say that Windows is the most popular Operating System. Some students are using MacBook while only one (unique) is using Acer."
      ]
    },
    {
      "cell_type": "code",
      "execution_count": null,
      "id": "41ffb3b2-cd7d-4f38-ada5-d2d06f812cee",
      "metadata": {
        "id": "41ffb3b2-cd7d-4f38-ada5-d2d06f812cee",
        "outputId": "df6f58f4-687e-4a8e-9b5d-b3db2e6da9f4"
      },
      "outputs": [
        {
          "name": "stdout",
          "output_type": "stream",
          "text": [
            "Count: \n",
            " not working    20\n",
            "full time      11\n",
            "part time       5\n",
            "Name: Q9, dtype: int64\n",
            "\n",
            "Mode: \n",
            " 0    not working\n",
            "Name: Q9, dtype: object\n",
            "\n",
            "Summary:  count              36\n",
            "unique              3\n",
            "top       not working\n",
            "freq               20\n",
            "Name: Q9, dtype: object\n"
          ]
        }
      ],
      "source": [
        "#for Q9\n",
        "print(\"Count: \\n\", fdata['Q9'].value_counts())\n",
        "print(\"\\nMode: \\n\",fdata['Q9'].mode())\n",
        "print(\"\\nSummary: \", fdata['Q9'].describe())\n",
        "\n",
        "#from the given data it can be seen that majority of the students do not work. This might indicate that they come from financially well bachgrounds or might be on scholarships. Some students are working full time while only a few work part time."
      ]
    },
    {
      "cell_type": "code",
      "execution_count": null,
      "id": "68294a7a-d32b-498c-a325-dd719125f962",
      "metadata": {
        "id": "68294a7a-d32b-498c-a325-dd719125f962",
        "outputId": "3531eff5-4dca-4fd3-9db2-142c657f58c4"
      },
      "outputs": [
        {
          "name": "stdout",
          "output_type": "stream",
          "text": [
            "Count: \n",
            " average          18\n",
            "some             12\n",
            "little/none       4\n",
            "frequent user     2\n",
            "Name: Q10, dtype: int64\n",
            "\n",
            "Mode: \n",
            " 0    average\n",
            "Name: Q10, dtype: object\n",
            "\n",
            "Summary:  count          36\n",
            "unique          4\n",
            "top       average\n",
            "freq           18\n",
            "Name: Q10, dtype: object\n"
          ]
        }
      ],
      "source": [
        "#for Q10\n",
        "print(\"Count: \\n\", fdata['Q10'].value_counts())\n",
        "print(\"\\nMode: \\n\",fdata['Q10'].mode())\n",
        "print(\"\\nSummary: \", fdata['Q10'].describe())\n",
        "\n",
        "#from the given data we can see that most students are average in coding with Python. As a lot of them come from Business background, the response can be undestood. There was no one that was fluent in Python, with only a few that used it a little."
      ]
    },
    {
      "cell_type": "code",
      "execution_count": null,
      "id": "7e6bca73-0c16-4096-8375-9a4c1c9a828d",
      "metadata": {
        "id": "7e6bca73-0c16-4096-8375-9a4c1c9a828d",
        "outputId": "07778fad-49a5-4014-e853-09c34fda964c"
      },
      "outputs": [
        {
          "name": "stdout",
          "output_type": "stream",
          "text": [
            "Count: \n",
            " average          12\n",
            "little/none       8\n",
            "some              8\n",
            "frequent user     7\n",
            "expert            1\n",
            "Name: Q11, dtype: int64\n",
            "\n",
            "Mode: \n",
            " 0    average\n",
            "Name: Q11, dtype: object\n",
            "\n",
            "Summary:  count          36\n",
            "unique          5\n",
            "top       average\n",
            "freq           12\n",
            "Name: Q11, dtype: object\n"
          ]
        }
      ],
      "source": [
        "#for Q11\n",
        "print(\"Count: \\n\", fdata['Q11'].value_counts())\n",
        "print(\"\\nMode: \\n\",fdata['Q11'].mode())\n",
        "print(\"\\nSummary: \", fdata['Q11'].describe())\n",
        "\n",
        "#From the given data, we can see that we can see that most students are average in coding with R. As a lot of them come from Business background, the response can be undestood. There was is only one (unique) that was fluent in Python, while only some used it little. One insight that can be generated from this is that R might be taught in Business Management courses as a few students used it for their projects."
      ]
    },
    {
      "cell_type": "code",
      "execution_count": null,
      "id": "9c89947f-b201-4a46-8918-f37b33be47d7",
      "metadata": {
        "id": "9c89947f-b201-4a46-8918-f37b33be47d7",
        "outputId": "f5d963bd-bcd0-4cb9-b1a7-d6567d6d6878"
      },
      "outputs": [
        {
          "name": "stdout",
          "output_type": "stream",
          "text": [
            "Count: \n",
            " average          18\n",
            "some             10\n",
            "little/none       5\n",
            "frequent user     3\n",
            "Name: Q12, dtype: int64\n",
            "\n",
            "Mode: \n",
            " 0    average\n",
            "Name: Q12, dtype: object\n",
            "\n",
            "Summary:  count          36\n",
            "unique          4\n",
            "top       average\n",
            "freq           18\n",
            "Name: Q12, dtype: object\n"
          ]
        }
      ],
      "source": [
        "#for Q12\n",
        "print(\"Count: \\n\", fdata['Q12'].value_counts())\n",
        "print(\"\\nMode: \\n\",fdata['Q12'].mode())\n",
        "print(\"\\nSummary: \", fdata['Q12'].describe())\n",
        "\n",
        "#from the given data we can see that most students are average in coding with SQL. As a lot of them come from Business background, the response can be undestood as SQL deals with data handling at the backend. There was no one that was fluent in SQL, with only a few that used it a little or for projects."
      ]
    },
    {
      "cell_type": "code",
      "execution_count": null,
      "id": "8584ec09-8be6-4f4f-bd7e-b6d2493549f2",
      "metadata": {
        "id": "8584ec09-8be6-4f4f-bd7e-b6d2493549f2"
      },
      "outputs": [],
      "source": [
        "#One thing that I found interesting here was that most of the students were unfamiliar/average with programming, with onl a few that had worked with it for projects. The fact that students like these are taking such a course shows the importance of Data Science and how the university has a diverse approach, allowing students to explore."
      ]
    },
    {
      "cell_type": "code",
      "execution_count": null,
      "id": "c0d13fd9-dbb9-41b9-902f-3b2cfa775db5",
      "metadata": {
        "id": "c0d13fd9-dbb9-41b9-902f-3b2cfa775db5"
      },
      "outputs": [],
      "source": [
        "#End of PART 3 and HW"
      ]
    }
  ],
  "metadata": {
    "kernelspec": {
      "display_name": "anaconda-2022.05-py39",
      "language": "python",
      "name": "conda-env-anaconda-2022.05-py39-py"
    },
    "language_info": {
      "codemirror_mode": {
        "name": "ipython",
        "version": 3
      },
      "file_extension": ".py",
      "mimetype": "text/x-python",
      "name": "python",
      "nbconvert_exporter": "python",
      "pygments_lexer": "ipython3",
      "version": "3.9.12"
    },
    "colab": {
      "provenance": []
    }
  },
  "nbformat": 4,
  "nbformat_minor": 5
}