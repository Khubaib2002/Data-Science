{
 "cells": [
  {
   "cell_type": "code",
   "execution_count": null,
   "id": "66f147c9-d17b-4db5-b7c1-e7c3f462f68c",
   "metadata": {},
   "outputs": [],
   "source": [
    "#  MK07218\n",
    "#  Muhammad Khubaib"
   ]
  },
  {
   "cell_type": "code",
   "execution_count": 2,
   "id": "e0c1fbf7-320e-4005-9d3f-f658a6360291",
   "metadata": {},
   "outputs": [],
   "source": [
    "import pandas as pd\n",
    "import numpy as np\n",
    "from scipy import stats"
   ]
  },
  {
   "cell_type": "code",
   "execution_count": 4,
   "id": "d6a8c763-b0d1-4162-ab00-7b7bd1e66ab7",
   "metadata": {},
   "outputs": [],
   "source": [
    "df = pd.read_csv('EmployeeAttrition.csv')"
   ]
  },
  {
   "cell_type": "code",
   "execution_count": 21,
   "id": "8d95d54d-affa-4a0a-a5a1-b899d6ecc056",
   "metadata": {},
   "outputs": [
    {
     "data": {
      "text/plain": [
       "Ttest_indResult(statistic=-1.2212617308870655, pvalue=0.8889084827245606)"
      ]
     },
     "execution_count": 21,
     "metadata": {},
     "output_type": "execute_result"
    }
   ],
   "source": [
    "#Q1\n",
    "\n",
    "SalFem = df[(df['Gender'] == 'Female')]['MonthlyIncome']\n",
    "SalMale = df[(df['Gender'] == 'Male')]['MonthlyIncome']\n",
    "stats.ttest_ind(SalMale, SalFem, alternative='greater')"
   ]
  },
  {
   "cell_type": "code",
   "execution_count": 11,
   "id": "8e9d7448-ff5a-4e79-92f2-e92980a22132",
   "metadata": {},
   "outputs": [],
   "source": [
    "#As the p-value is greater than 0.05 we accept the null hypothesis and reject the alternate hypothesis which states that monthly income of males is less \n",
    "#than equal to monthly income of females."
   ]
  },
  {
   "cell_type": "code",
   "execution_count": 25,
   "id": "242884b0-7cc4-4532-a88c-df2d549e9681",
   "metadata": {},
   "outputs": [
    {
     "data": {
      "text/plain": [
       "Ttest_indResult(statistic=-0.10546787956064164, pvalue=0.45800948246831286)"
      ]
     },
     "execution_count": 25,
     "metadata": {},
     "output_type": "execute_result"
    }
   ],
   "source": [
    "#Q2\n",
    "\n",
    "FemWorkBal = df[(df['Gender'] == 'Female')]['WorkLifeBalance']\n",
    "MaleWorkBal = df[(df['Gender'] == 'Male')]['WorkLifeBalance']\n",
    "stats.ttest_ind(MaleWorkBal, FemWorkBal, alternative='less')"
   ]
  },
  {
   "cell_type": "code",
   "execution_count": 27,
   "id": "cdb68b57-9548-40a2-93f5-295dfeed2970",
   "metadata": {},
   "outputs": [],
   "source": [
    "#As the p-value is greater than 0.05 we accept the null hypothesis and reject the alternate which states that male's Work-Life-Balance \n",
    "#is greater than or equal to the Work-Life-Balance of females"
   ]
  },
  {
   "cell_type": "code",
   "execution_count": 29,
   "id": "ff0658c2-1234-4363-922b-d630626b4412",
   "metadata": {},
   "outputs": [
    {
     "data": {
      "text/plain": [
       "Ttest_indResult(statistic=-2.5589985737464476, pvalue=0.0053127663549315815)"
      ]
     },
     "execution_count": 29,
     "metadata": {},
     "output_type": "execute_result"
    }
   ],
   "source": [
    "#Q3\n",
    "\n",
    "Sinyears = df[(df['MaritalStatus'] == 'Single')]['YearsAtCompany']\n",
    "Maryears = df[(df['MaritalStatus'] == 'Married')]['YearsAtCompany']\n",
    "stats.ttest_ind(Sinyears, Maryears, alternative='less')"
   ]
  },
  {
   "cell_type": "code",
   "execution_count": 31,
   "id": "f8360c38-1d62-4717-8fe1-a0fa6434be51",
   "metadata": {},
   "outputs": [],
   "source": [
    "#As the p-value is less than 0.05 we reject the null hypothesis and accept the alternate which states that the years at company of single individual \n",
    "#is less than the years at company of married individual"
   ]
  },
  {
   "cell_type": "code",
   "execution_count": 33,
   "id": "397bae9b-c5da-4ea7-8849-21d87ffc45ce",
   "metadata": {},
   "outputs": [
    {
     "data": {
      "text/plain": [
       "Ttest_indResult(statistic=-3.9818600026818496, pvalue=3.58616927468443e-05)"
      ]
     },
     "execution_count": 33,
     "metadata": {},
     "output_type": "execute_result"
    }
   ],
   "source": [
    "#Q4\n",
    "\n",
    "AtNo = df[(df['Attrition'] == 'No')]['EnvironmentSatisfaction']\n",
    "AtYes = df[(df['Attrition'] == 'Yes')]['EnvironmentSatisfaction']\n",
    "stats.ttest_ind(AtYes, AtNo, alternative='less')"
   ]
  },
  {
   "cell_type": "code",
   "execution_count": 36,
   "id": "f093abcf-ea22-4a7a-b258-bb29c6de3ef9",
   "metadata": {},
   "outputs": [],
   "source": [
    "#As the p-value is less than 0.05 we will now reject the null hypothesis and accept the alternate which states that the \n",
    "#environmental-satisfaction where \"Attrition\" is equal to Yes is less than the environmental-satisfaction where \"Attrition\" is equal to No"
   ]
  },
  {
   "cell_type": "code",
   "execution_count": 40,
   "id": "a04bf2cd-13e8-4136-8772-587851585346",
   "metadata": {},
   "outputs": [
    {
     "data": {
      "text/plain": [
       "Ttest_indResult(statistic=76.03317414634023, pvalue=9.971168334368433e-224)"
      ]
     },
     "execution_count": 40,
     "metadata": {},
     "output_type": "execute_result"
    }
   ],
   "source": [
    "#Q5\n",
    "\n",
    "labinc = df[(df['JobRole'] == 'Laboratory Technician')]['MonthlyIncome']\n",
    "maninc = df[(df['JobRole'] == 'Manager')]['MonthlyIncome']\n",
    "stats.ttest_ind(maninc, labinc, alternative='greater')"
   ]
  },
  {
   "cell_type": "code",
   "execution_count": 42,
   "id": "40fbfec0-b079-458d-8e09-68e23d29c123",
   "metadata": {},
   "outputs": [],
   "source": [
    "#As the p-value is less than 0.05 we will reject the null hypothesis and accept the alternate which states that the monthly income of Managers\n",
    "#is greater than the monthly income of Lab technicians"
   ]
  },
  {
   "cell_type": "code",
   "execution_count": 50,
   "id": "d91d934e-0869-495e-b182-d20facb02305",
   "metadata": {},
   "outputs": [
    {
     "data": {
      "text/plain": [
       "0.47927963769548776"
      ]
     },
     "execution_count": 50,
     "metadata": {},
     "output_type": "execute_result"
    }
   ],
   "source": [
    "#Q6\n",
    "\n",
    "chisqt = pd.crosstab(df['Department'],df['Gender'], margins=True)\n",
    "value = np.array([chisqt.iloc[0][0:].values, chisqt.iloc[1][0:].values])\n",
    "chi2, p, dof, ex = stats.chi2_contingency(value)\n",
    "p"
   ]
  },
  {
   "cell_type": "code",
   "execution_count": null,
   "id": "d6aebc25-fdc0-4023-9db7-74c50887cadd",
   "metadata": {},
   "outputs": [],
   "source": [
    "#As the p-value is greater than 0.05 we accept the null hypothesis and can say that there is no association between Department and Gender."
   ]
  }
 ],
 "metadata": {
  "kernelspec": {
   "display_name": "anaconda-panel-2023.05-py310",
   "language": "python",
   "name": "conda-env-anaconda-panel-2023.05-py310-py"
  },
  "language_info": {
   "codemirror_mode": {
    "name": "ipython",
    "version": 3
   },
   "file_extension": ".py",
   "mimetype": "text/x-python",
   "name": "python",
   "nbconvert_exporter": "python",
   "pygments_lexer": "ipython3",
   "version": "3.11.4"
  }
 },
 "nbformat": 4,
 "nbformat_minor": 5
}
